{
 "cells": [
  {
   "cell_type": "code",
   "execution_count": 1,
   "metadata": {
    "collapsed": true
   },
   "outputs": [],
   "source": [
    "from bs4 import BeautifulSoup\n",
    "import requests\n",
    "import re"
   ]
  },
  {
   "cell_type": "code",
   "execution_count": 2,
   "metadata": {
    "collapsed": true
   },
   "outputs": [],
   "source": [
    "biura_nieruchomosci_url = \"https://www.otodom.pl/warszawa/firmy/deweloperzy/?search%5Bregion_id%5D=7&search%5Bsubregion_id%5D=197&search%5Bcity_id%5D=26&page=\"\n",
    "pages_range = range(1, 18)"
   ]
  },
  {
   "cell_type": "code",
   "execution_count": 4,
   "metadata": {
    "collapsed": false
   },
   "outputs": [],
   "source": [
    "response = requests.get(biura_nieruchomosci_url + \"1\")\n",
    "soup = BeautifulSoup(response.content, 'html.parser')"
   ]
  },
  {
   "cell_type": "code",
   "execution_count": 5,
   "metadata": {
    "collapsed": true
   },
   "outputs": [],
   "source": [
    "biura = soup.find_all(class_=\"company-item\")"
   ]
  },
  {
   "cell_type": "code",
   "execution_count": 6,
   "metadata": {
    "collapsed": false
   },
   "outputs": [
    {
     "data": {
      "text/plain": [
       "<article class=\"company-item\">\n",
       "<figure class=\"company-item-image\">\n",
       "<a class=\"img-shadow\" href=\"https://www.otodom.pl/shop/budimex-nieruchomosci-sp-z-o-o-IDvzQA/\" title=\"Deweloperzy: Budimex Nieruchomości Sp. z o.o. - Warszawa, mazowieckie\"><img alt=\"Deweloperzy: Budimex Nieruchomości Sp. z o.o. - Warszawa, mazowieckie\" src=\"https://ireland.apollo.olxcdn.com/v1/files/eyJmbiI6Im1qYjNsbXkzYWNhZS1BUEwifQ.3zgdMxNy2GCLn3jxlUlqtDjHlOO187xaZEBmNagQRJQ/image;s=219x163;q=80\"/></a>\n",
       "</figure>\n",
       "<div class=\"company-item-content\">\n",
       "<header>\n",
       "<h4 class=\"company-item-title\">\n",
       "<a href=\"https://www.otodom.pl/shop/budimex-nieruchomosci-sp-z-o-o-IDvzQA/\" title=\"Deweloperzy: Budimex Nieruchomości Sp. z o.o. - Warszawa, mazowieckie\">\n",
       "                                            Budimex Nieruchomości Sp. z o.o.                                        </a>\n",
       "</h4>\n",
       "<span class=\"company-item-since\">23.12.2020</span>\n",
       "</header>\n",
       "<p class=\"company-item-address\">ul. Skierniewicka 16/20<br/>01-230 Warszawa, mazowieckie</p>\n",
       "<div class=\"company-item-properties\">\n",
       "<strong>sprzedaż:</strong> 313 <span>od:</span> 260 139 zł <span>do:</span> 1 669 440 zł\n",
       "</div>\n",
       "<div class=\"company-item-phone\">\n",
       "<div class=\"phone-spoiler\">\n",
       "<i class=\"icon-mobile-full phone-spoiler-icon\"></i>\n",
       "<span class=\"phone-number\" data-id=\"7764296\" data-index=\"0\" data-path=\"phone\" data-type=\"bottom\" id=\"shop-phone-wrapper-7764296\">\n",
       "<strong class=\"phone-spoiler-number\">226</strong>\n",
       "<span class=\"phone-spoiler phone-spoiler-button show-item\" data-bind=\"shopphone-spoiler\" data-id=\"7764296\" data-index=\"default\" data-ninja-extradata='{\"seller_id\":\"7764296\"}' data-path=\"phone\" data-user_id_e=\"vzQA\">Wyświetl numer</span>\n",
       "</span>\n",
       "</div>\n",
       "</div>\n",
       "</div>\n",
       "</article>"
      ]
     },
     "execution_count": 6,
     "metadata": {},
     "output_type": "execute_result"
    }
   ],
   "source": [
    "tmp = biura[0]\n",
    "tmp"
   ]
  },
  {
   "cell_type": "code",
   "execution_count": 7,
   "metadata": {
    "collapsed": false
   },
   "outputs": [
    {
     "name": "stdout",
     "output_type": "stream",
     "text": [
      "Budimex Nieruchomości Sp. z o.o.\n",
      "23.12.2020\n",
      "ul.\n",
      "Skierniewicka 16/20\n",
      "mazowieckie\n",
      "Warszawa\n",
      "01-230\n",
      "https://www.otodom.pl/shop/budimex-nieruchomosci-sp-z-o-o-IDvzQA/\n"
     ]
    },
    {
     "ename": "AttributeError",
     "evalue": "'NoneType' object has no attribute 'p'",
     "output_type": "error",
     "traceback": [
      "\u001b[0;31m---------------------------------------------------------------------------\u001b[0m",
      "\u001b[0;31mAttributeError\u001b[0m                            Traceback (most recent call last)",
      "\u001b[0;32m<ipython-input-7-d22138e10213>\u001b[0m in \u001b[0;36m<module>\u001b[0;34m\u001b[0m\n\u001b[1;32m     16\u001b[0m \u001b[0murl_tmp\u001b[0m \u001b[0;34m=\u001b[0m \u001b[0mrequests\u001b[0m\u001b[0;34m.\u001b[0m\u001b[0mget\u001b[0m\u001b[0;34m(\u001b[0m\u001b[0murl\u001b[0m\u001b[0;34m)\u001b[0m\u001b[0;34m\u001b[0m\u001b[0;34m\u001b[0m\u001b[0m\n\u001b[1;32m     17\u001b[0m \u001b[0murl_soup\u001b[0m \u001b[0;34m=\u001b[0m \u001b[0mBeautifulSoup\u001b[0m\u001b[0;34m(\u001b[0m\u001b[0murl_tmp\u001b[0m\u001b[0;34m.\u001b[0m\u001b[0mcontent\u001b[0m\u001b[0;34m,\u001b[0m \u001b[0;34m'html.parser'\u001b[0m\u001b[0;34m)\u001b[0m\u001b[0;34m\u001b[0m\u001b[0;34m\u001b[0m\u001b[0m\n\u001b[0;32m---> 18\u001b[0;31m \u001b[0mabout\u001b[0m \u001b[0;34m=\u001b[0m \u001b[0murl_soup\u001b[0m\u001b[0;34m.\u001b[0m\u001b[0mfind\u001b[0m\u001b[0;34m(\u001b[0m\u001b[0mclass_\u001b[0m\u001b[0;34m=\u001b[0m\u001b[0;34m\"shop-about\"\u001b[0m\u001b[0;34m)\u001b[0m\u001b[0;34m.\u001b[0m\u001b[0mp\u001b[0m\u001b[0;34m.\u001b[0m\u001b[0mget_text\u001b[0m\u001b[0;34m(\u001b[0m\u001b[0;34m)\u001b[0m\u001b[0;34m\u001b[0m\u001b[0;34m\u001b[0m\u001b[0m\n\u001b[0m\u001b[1;32m     19\u001b[0m \u001b[0mprint\u001b[0m\u001b[0;34m(\u001b[0m\u001b[0mabout\u001b[0m\u001b[0;34m)\u001b[0m\u001b[0;34m\u001b[0m\u001b[0;34m\u001b[0m\u001b[0m\n\u001b[1;32m     20\u001b[0m \u001b[0minfo_re\u001b[0m \u001b[0;34m=\u001b[0m \u001b[0mre\u001b[0m\u001b[0;34m.\u001b[0m\u001b[0mcompile\u001b[0m\u001b[0;34m(\u001b[0m\u001b[0;34m\"sprzedaż: ([\\d ]+)\"\u001b[0m\u001b[0;34m)\u001b[0m\u001b[0;31m# .*wynajem: ([\\d ]+).*\u001b[0m\u001b[0;34m\u001b[0m\u001b[0;34m\u001b[0m\u001b[0m\n",
      "\u001b[0;31mAttributeError\u001b[0m: 'NoneType' object has no attribute 'p'"
     ]
    }
   ],
   "source": [
    "name = tmp.find(class_=\"company-item-title\").get_text().strip()\n",
    "print(name)\n",
    "since = tmp.find(class_=\"company-item-since\").get_text().strip()\n",
    "print(since)\n",
    "ulica, numer = tmp.find(class_=\"company-item-address\").contents[0].split(\" \", 1)\n",
    "print(ulica)\n",
    "print(numer)\n",
    "part1, wojewodztwo = tmp.find(class_=\"company-item-address\").contents[2].split(\",\")\n",
    "wojewodztwo = wojewodztwo.strip()\n",
    "kod, miasto = part1.replace(\",\", \"\").split(\" \", 1)\n",
    "print(wojewodztwo)\n",
    "print(miasto)\n",
    "print(kod)\n",
    "url = tmp.find(class_=\"company-item-title\").a[\"href\"]\n",
    "print(url)\n",
    "url_tmp = requests.get(url)\n",
    "url_soup = BeautifulSoup(url_tmp.content, 'html.parser')\n",
    "about = url_soup.find(class_=\"shop-about\").p.get_text()\n",
    "print(about)\n",
    "info_re = re.compile(\"sprzedaż: ([\\d ]+)\")# .*wynajem: ([\\d ]+).*\n",
    "info_tmp = tmp.find(class_=\"company-item-properties\").get_text().strip()\n",
    "print(info_tmp)\n",
    "m = info_re.match(info_tmp)\n",
    "m.groups()"
   ]
  },
  {
   "cell_type": "code",
   "execution_count": 10,
   "metadata": {
    "collapsed": false
   },
   "outputs": [
    {
     "name": "stdout",
     "output_type": "stream",
     "text": [
      "Collecting package metadata (current_repodata.json): - \b\b\\ \b\b| \b\b/ \b\b- \b\b\\ \b\b| \b\b/ \b\b- \b\b\\ \b\b| \b\b/ \b\b- \b\b\\ \b\b| \b\b/ \b\b- \b\b\\ \b\b| \b\b/ \b\b- \b\b\\ \b\b| \b\b/ \b\b- \b\b\\ \b\b| \b\b/ \b\b- \b\b\\ \b\b| \b\b/ \b\b- \b\b\\ \b\b| \b\b/ \b\b- \b\b\\ \b\b| \b\b/ \b\b- \b\b\\ \b\b| \b\b/ \b\b- \b\b\\ \b\b| \b\b/ \b\b- \b\b\\ \b\b| \b\b/ \b\b- \b\b\\ \b\b| \b\b/ \b\b- \b\b\\ \b\b| \b\b/ \b\b- \b\b\\ \b\b| \b\b/ \b\b- \b\b\\ \b\b| \b\b/ \b\b- \b\b\\ \b\bdone\n",
      "Solving environment: / \b\b- \b\b\\ \b\b| \b\b/ \b\b- \b\b\\ \b\b| \b\b/ \b\b- \b\b\\ \b\b| \b\b/ \b\bdone\n",
      "\n",
      "\n",
      "==> WARNING: A newer version of conda exists. <==\n",
      "  current version: 4.8.3\n",
      "  latest version: 4.10.1\n",
      "\n",
      "Please update conda by running\n",
      "\n",
      "    $ conda update -n base conda\n",
      "\n",
      "\n",
      "\n",
      "## Package Plan ##\n",
      "\n",
      "  environment location: /home/aur/anaconda3/envs/dwh\n",
      "\n",
      "  added / updated specs:\n",
      "    - pandas\n",
      "\n",
      "\n",
      "The following packages will be downloaded:\n",
      "\n",
      "    package                    |            build\n",
      "    ---------------------------|-----------------\n",
      "    blas-1.0                   |              mkl           6 KB\n",
      "    intel-openmp-2021.2.0      |     h06a4308_610         1.3 MB\n",
      "    mkl-2021.2.0               |     h06a4308_296       144.3 MB\n",
      "    mkl-service-2.3.0          |   py39h27cfd23_1          57 KB\n",
      "    mkl_fft-1.3.0              |   py39h42c9631_2         179 KB\n",
      "    mkl_random-1.2.1           |   py39ha9443f7_2         310 KB\n",
      "    numpy-1.20.1               |   py39h93e21f0_0          22 KB\n",
      "    numpy-base-1.20.1          |   py39h7d8b39e_0         4.6 MB\n",
      "    pandas-1.2.4               |   py39h2531618_0         8.9 MB\n",
      "    ------------------------------------------------------------\n",
      "                                           Total:       159.6 MB\n",
      "\n",
      "The following NEW packages will be INSTALLED:\n",
      "\n",
      "  blas               pkgs/main/linux-64::blas-1.0-mkl\n",
      "  intel-openmp       pkgs/main/linux-64::intel-openmp-2021.2.0-h06a4308_610\n",
      "  mkl                pkgs/main/linux-64::mkl-2021.2.0-h06a4308_296\n",
      "  mkl-service        pkgs/main/linux-64::mkl-service-2.3.0-py39h27cfd23_1\n",
      "  mkl_fft            pkgs/main/linux-64::mkl_fft-1.3.0-py39h42c9631_2\n",
      "  mkl_random         pkgs/main/linux-64::mkl_random-1.2.1-py39ha9443f7_2\n",
      "  numpy              pkgs/main/linux-64::numpy-1.20.1-py39h93e21f0_0\n",
      "  numpy-base         pkgs/main/linux-64::numpy-base-1.20.1-py39h7d8b39e_0\n",
      "  pandas             pkgs/main/linux-64::pandas-1.2.4-py39h2531618_0\n",
      "  pytz               pkgs/main/noarch::pytz-2021.1-pyhd3eb1b0_0\n",
      "\n",
      "\n",
      "\n",
      "Downloading and Extracting Packages\n",
      "numpy-base-1.20.1    | 4.6 MB    | ##################################### | 100% \n",
      "pandas-1.2.4         | 8.9 MB    | ##################################### | 100% \n",
      "mkl_random-1.2.1     | 310 KB    | ##################################### | 100% \n",
      "intel-openmp-2021.2. | 1.3 MB    | ##################################### | 100% \n",
      "blas-1.0             | 6 KB      | ##################################### | 100% \n",
      "mkl-service-2.3.0    | 57 KB     | ##################################### | 100% \n",
      "mkl-2021.2.0         | 144.3 MB  | ##################################### | 100% \n",
      "mkl_fft-1.3.0        | 179 KB    | ##################################### | 100% \n",
      "numpy-1.20.1         | 22 KB     | ##################################### | 100% \n",
      "Preparing transaction: \\ \b\b| \b\b/ \b\b- \b\b\\ \b\b| \b\b/ \b\b- \b\b\\ \b\b| \b\b/ \b\b- \b\b\\ \b\b| \b\b/ \b\b- \b\bdone\n",
      "Verifying transaction: | \b\b/ \b\b- \b\b\\ \b\b| \b\b/ \b\b- \b\b\\ \b\b| \b\b/ \b\b- \b\b\\ \b\b| \b\bdone\n",
      "Executing transaction: - \b\b\\ \b\b| \b\b/ \b\b- \b\b\\ \b\b| \b\b/ \b\b- \b\b\\ \b\b| \b\b/ \b\b- \b\b\\ \b\b| \b\b/ \b\b- \b\b\\ \b\b| \b\b/ \b\b- \b\b\\ \b\b| \b\b/ \b\bdone\n"
     ]
    }
   ],
   "source": [
    "!conda install pandas -y"
   ]
  },
  {
   "cell_type": "code",
   "execution_count": 3,
   "metadata": {
    "collapsed": false
   },
   "outputs": [],
   "source": [
    "import pandas as pd\n",
    "\n",
    "data = []\n",
    "for page in pages_range:\n",
    "    response = requests.get(biura_nieruchomosci_url + str(page))\n",
    "    soup = BeautifulSoup(response.content, 'html.parser')\n",
    "    biura = soup.find_all(class_=\"company-item\")\n",
    "    for biuro in biura:\n",
    "        name = biuro.find(class_=\"company-item-title\").get_text().strip()\n",
    "        since = biuro.find(class_=\"company-item-since\").get_text().strip()\n",
    "        ulica = biuro.find(class_=\"company-item-address\").contents[0]\n",
    "        part1, wojewodztwo = biuro.find(class_=\"company-item-address\").contents[2].split(\",\")\n",
    "        wojewodztwo = wojewodztwo.strip()\n",
    "        kod, miasto = part1.replace(\",\", \"\").split(\" \", 1)\n",
    "        url = biuro.find(class_=\"company-item-title\").a[\"href\"]\n",
    "        data.append({\"name\": name, \"since\": since, \"address\": ulica, \"province\": wojewodztwo,\n",
    "                     \"postcode\": kod, \"city\": miasto, \"url\": url})\n",
    "\n",
    "data_df = pd.DataFrame(data)"
   ]
  },
  {
   "cell_type": "code",
   "execution_count": 4,
   "metadata": {
    "collapsed": false
   },
   "outputs": [
    {
     "data": {
      "text/html": [
       "<div>\n",
       "<style scoped>\n",
       "    .dataframe tbody tr th:only-of-type {\n",
       "        vertical-align: middle;\n",
       "    }\n",
       "\n",
       "    .dataframe tbody tr th {\n",
       "        vertical-align: top;\n",
       "    }\n",
       "\n",
       "    .dataframe thead th {\n",
       "        text-align: right;\n",
       "    }\n",
       "</style>\n",
       "<table border=\"1\" class=\"dataframe\">\n",
       "  <thead>\n",
       "    <tr style=\"text-align: right;\">\n",
       "      <th></th>\n",
       "      <th>name</th>\n",
       "      <th>since</th>\n",
       "      <th>address</th>\n",
       "      <th>province</th>\n",
       "      <th>postcode</th>\n",
       "      <th>city</th>\n",
       "      <th>url</th>\n",
       "    </tr>\n",
       "  </thead>\n",
       "  <tbody>\n",
       "    <tr>\n",
       "      <th>0</th>\n",
       "      <td>Budimex Nieruchomości Sp. z o.o.</td>\n",
       "      <td>23.12.2020</td>\n",
       "      <td>ul. Skierniewicka 16/20</td>\n",
       "      <td>mazowieckie</td>\n",
       "      <td>01-230</td>\n",
       "      <td>Warszawa</td>\n",
       "      <td>https://www.otodom.pl/shop/budimex-nieruchomos...</td>\n",
       "    </tr>\n",
       "    <tr>\n",
       "      <th>1</th>\n",
       "      <td>Nexity Polska</td>\n",
       "      <td>18.09.2019</td>\n",
       "      <td>Kłobucka 6</td>\n",
       "      <td>mazowieckie</td>\n",
       "      <td>02-699</td>\n",
       "      <td>Warszawa</td>\n",
       "      <td>https://nexity.otodom.pl</td>\n",
       "    </tr>\n",
       "    <tr>\n",
       "      <th>2</th>\n",
       "      <td>Home Invest Sp. z o.o.</td>\n",
       "      <td>12.10.2020</td>\n",
       "      <td>Jana Kazimierza 64</td>\n",
       "      <td>mazowieckie</td>\n",
       "      <td>01-248</td>\n",
       "      <td>Warszawa</td>\n",
       "      <td>https://www.otodom.pl/shop/home-invest-sp-z-o-...</td>\n",
       "    </tr>\n",
       "    <tr>\n",
       "      <th>3</th>\n",
       "      <td>Mota - Engil Real Estate</td>\n",
       "      <td>03.11.2020</td>\n",
       "      <td>Aleje Jerozolimskie 100</td>\n",
       "      <td>mazowieckie</td>\n",
       "      <td>00-807</td>\n",
       "      <td>Warszawa</td>\n",
       "      <td>https://www.otodom.pl/shop/mota-engil-real-est...</td>\n",
       "    </tr>\n",
       "    <tr>\n",
       "      <th>4</th>\n",
       "      <td>Grupa Inwest</td>\n",
       "      <td>20.10.2020</td>\n",
       "      <td>Fabryczna 5</td>\n",
       "      <td>mazowieckie</td>\n",
       "      <td>00-446</td>\n",
       "      <td>Warszawa</td>\n",
       "      <td>https://www.otodom.pl/shop/grupa-inwest-IDvfG0/</td>\n",
       "    </tr>\n",
       "    <tr>\n",
       "      <th>...</th>\n",
       "      <td>...</td>\n",
       "      <td>...</td>\n",
       "      <td>...</td>\n",
       "      <td>...</td>\n",
       "      <td>...</td>\n",
       "      <td>...</td>\n",
       "      <td>...</td>\n",
       "    </tr>\n",
       "    <tr>\n",
       "      <th>316</th>\n",
       "      <td>Złota 44 Sp. z o.o.</td>\n",
       "      <td>10.01.2019</td>\n",
       "      <td>ul. Złota 44</td>\n",
       "      <td>mazowieckie</td>\n",
       "      <td>00-120</td>\n",
       "      <td>Warszawa</td>\n",
       "      <td>https://www.otodom.pl/shop/zlota-44-sp-z-o-o-I...</td>\n",
       "    </tr>\n",
       "    <tr>\n",
       "      <th>317</th>\n",
       "      <td>Pama Invest Spółka z ograniczoną odpowiedzilno...</td>\n",
       "      <td>18.07.2019</td>\n",
       "      <td>Pabla Nerudy 10/80</td>\n",
       "      <td>mazowieckie</td>\n",
       "      <td>01-926</td>\n",
       "      <td>Warszawa</td>\n",
       "      <td>https://www.otodom.pl/shop/pama-invest-spolka-...</td>\n",
       "    </tr>\n",
       "    <tr>\n",
       "      <th>318</th>\n",
       "      <td>Biuro Sprzedaży Mieszkań Deweloperskich</td>\n",
       "      <td>10.06.2020</td>\n",
       "      <td>Śniadeckich 17</td>\n",
       "      <td>mazowieckie</td>\n",
       "      <td>00-654</td>\n",
       "      <td>Warszawa</td>\n",
       "      <td>https://www.otodom.pl/shop/biuro-sprzedazy-mie...</td>\n",
       "    </tr>\n",
       "    <tr>\n",
       "      <th>319</th>\n",
       "      <td>Best Home Development Sp. z o.o.</td>\n",
       "      <td>22.05.2018</td>\n",
       "      <td>ul. Ostaszewska 4</td>\n",
       "      <td>mazowieckie</td>\n",
       "      <td>01-993</td>\n",
       "      <td>Warszawa</td>\n",
       "      <td>https://www.otodom.pl/shop/best-home-developme...</td>\n",
       "    </tr>\n",
       "    <tr>\n",
       "      <th>320</th>\n",
       "      <td>REZYDENCJA CHAŁUBIŃSKIEGO</td>\n",
       "      <td>12.03.2019</td>\n",
       "      <td>Rzymowskiego 31</td>\n",
       "      <td>mazowieckie</td>\n",
       "      <td>02-697</td>\n",
       "      <td>Warszawa</td>\n",
       "      <td>https://www.otodom.pl/shop/rezydencja-chalubin...</td>\n",
       "    </tr>\n",
       "  </tbody>\n",
       "</table>\n",
       "<p>321 rows × 7 columns</p>\n",
       "</div>"
      ],
      "text/plain": [
       "                                                  name       since  \\\n",
       "0                     Budimex Nieruchomości Sp. z o.o.  23.12.2020   \n",
       "1                                        Nexity Polska  18.09.2019   \n",
       "2                               Home Invest Sp. z o.o.  12.10.2020   \n",
       "3                             Mota - Engil Real Estate  03.11.2020   \n",
       "4                                         Grupa Inwest  20.10.2020   \n",
       "..                                                 ...         ...   \n",
       "316                                Złota 44 Sp. z o.o.  10.01.2019   \n",
       "317  Pama Invest Spółka z ograniczoną odpowiedzilno...  18.07.2019   \n",
       "318            Biuro Sprzedaży Mieszkań Deweloperskich  10.06.2020   \n",
       "319                   Best Home Development Sp. z o.o.  22.05.2018   \n",
       "320                          REZYDENCJA CHAŁUBIŃSKIEGO  12.03.2019   \n",
       "\n",
       "                     address     province postcode      city  \\\n",
       "0    ul. Skierniewicka 16/20  mazowieckie   01-230  Warszawa   \n",
       "1                 Kłobucka 6  mazowieckie   02-699  Warszawa   \n",
       "2         Jana Kazimierza 64  mazowieckie   01-248  Warszawa   \n",
       "3    Aleje Jerozolimskie 100  mazowieckie   00-807  Warszawa   \n",
       "4                Fabryczna 5  mazowieckie   00-446  Warszawa   \n",
       "..                       ...          ...      ...       ...   \n",
       "316             ul. Złota 44  mazowieckie   00-120  Warszawa   \n",
       "317       Pabla Nerudy 10/80  mazowieckie   01-926  Warszawa   \n",
       "318           Śniadeckich 17  mazowieckie   00-654  Warszawa   \n",
       "319        ul. Ostaszewska 4  mazowieckie   01-993  Warszawa   \n",
       "320          Rzymowskiego 31  mazowieckie   02-697  Warszawa   \n",
       "\n",
       "                                                   url  \n",
       "0    https://www.otodom.pl/shop/budimex-nieruchomos...  \n",
       "1                             https://nexity.otodom.pl  \n",
       "2    https://www.otodom.pl/shop/home-invest-sp-z-o-...  \n",
       "3    https://www.otodom.pl/shop/mota-engil-real-est...  \n",
       "4      https://www.otodom.pl/shop/grupa-inwest-IDvfG0/  \n",
       "..                                                 ...  \n",
       "316  https://www.otodom.pl/shop/zlota-44-sp-z-o-o-I...  \n",
       "317  https://www.otodom.pl/shop/pama-invest-spolka-...  \n",
       "318  https://www.otodom.pl/shop/biuro-sprzedazy-mie...  \n",
       "319  https://www.otodom.pl/shop/best-home-developme...  \n",
       "320  https://www.otodom.pl/shop/rezydencja-chalubin...  \n",
       "\n",
       "[321 rows x 7 columns]"
      ]
     },
     "execution_count": 4,
     "metadata": {},
     "output_type": "execute_result"
    }
   ],
   "source": [
    "data_df"
   ]
  },
  {
   "cell_type": "code",
   "execution_count": 5,
   "metadata": {
    "collapsed": true
   },
   "outputs": [],
   "source": [
    "data_df.to_csv('deweloperzy.csv')"
   ]
  },
  {
   "cell_type": "code",
   "execution_count": null,
   "metadata": {
    "collapsed": true
   },
   "outputs": [],
   "source": []
  }
 ],
 "metadata": {
  "kernelspec": {
   "display_name": "Python 3",
   "language": "python",
   "name": "python3"
  },
  "language_info": {
   "codemirror_mode": {
    "name": "ipython",
    "version": 3
   },
   "file_extension": ".py",
   "mimetype": "text/x-python",
   "name": "python",
   "nbconvert_exporter": "python",
   "pygments_lexer": "ipython3",
   "version": "3.9.4"
  }
 },
 "nbformat": 4,
 "nbformat_minor": 2
}
