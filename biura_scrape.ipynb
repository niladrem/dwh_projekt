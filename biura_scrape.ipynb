{
 "cells": [
  {
   "cell_type": "code",
   "execution_count": 1,
   "metadata": {
    "collapsed": true
   },
   "outputs": [],
   "source": [
    "from bs4 import BeautifulSoup\n",
    "import requests\n",
    "import re"
   ]
  },
  {
   "cell_type": "code",
   "execution_count": 2,
   "metadata": {
    "collapsed": true
   },
   "outputs": [],
   "source": [
    "biura_nieruchomosci_url = \"https://www.otodom.pl/warszawa/firmy/biura-nieruchomosci/?search%5Bregion_id%5D=7&search%5Bsubregion_id%5D=197&search%5Bcity_id%5D=26&sq=&page=\"\n",
    "pages_range = range(1, 69)"
   ]
  },
  {
   "cell_type": "code",
   "execution_count": 7,
   "metadata": {
    "collapsed": true
   },
   "outputs": [],
   "source": [
    "response = requests.get(biura_nieruchomosci_url + \"1\")\n",
    "soup = BeautifulSoup(response.content, 'html.parser')"
   ]
  },
  {
   "cell_type": "code",
   "execution_count": 9,
   "metadata": {
    "collapsed": true
   },
   "outputs": [],
   "source": [
    "biura = soup.find_all(class_=\"company-item\")"
   ]
  },
  {
   "cell_type": "code",
   "execution_count": 10,
   "metadata": {
    "collapsed": false
   },
   "outputs": [
    {
     "data": {
      "text/plain": [
       "<article class=\"company-item\">\n",
       "<figure class=\"company-item-image\">\n",
       "<a class=\"img-shadow\" href=\"https://koloseum-nieruchomosci.otodom.pl\" title=\"Deweloperzy: KOLOSEUM NIERUCHOMOŚCI - Warszawa, mazowieckie\"><img alt=\"Deweloperzy: KOLOSEUM NIERUCHOMOŚCI - Warszawa, mazowieckie\" src=\"https://ireland.apollo.olxcdn.com/v1/files/eyJmbiI6ImV6MjM2NGJ4MWdibDMtQVBMIn0.L-sslzPRC94fTqGrfWW7quvca59kpGhkM3MzwNDwN68/image;s=219x163;q=80\"/></a>\n",
       "</figure>\n",
       "<div class=\"company-item-content\">\n",
       "<header>\n",
       "<h4 class=\"company-item-title\">\n",
       "<a href=\"https://koloseum-nieruchomosci.otodom.pl\" title=\"Deweloperzy: KOLOSEUM NIERUCHOMOŚCI - Warszawa, mazowieckie\">\n",
       "                                            KOLOSEUM NIERUCHOMOŚCI                                        </a>\n",
       "</h4>\n",
       "<span class=\"company-item-since\">09.08.2012</span>\n",
       "</header>\n",
       "<p class=\"company-item-address\">Domaniewska 37/31G<br/>02-672 Warszawa, mazowieckie</p>\n",
       "<div class=\"company-item-properties\">\n",
       "<strong>sprzedaż:</strong> 3646 <span>od:</span> 25 000 zł <span>do:</span> 17 000 000 zł</div></div></article>"
      ]
     },
     "execution_count": 10,
     "metadata": {},
     "output_type": "execute_result"
    }
   ],
   "source": [
    "tmp = biura[0]\n",
    "tmp"
   ]
  },
  {
   "cell_type": "code",
   "execution_count": 12,
   "metadata": {
    "collapsed": false
   },
   "outputs": [
    {
     "name": "stdout",
     "output_type": "stream",
     "text": [
      "KOLOSEUM NIERUCHOMOŚCI\n",
      "09.08.2012\n",
      "Domaniewska\n",
      "37/31G\n",
      "mazowieckie\n",
      "Warszawa\n",
      "02-672\n",
      "https://koloseum-nieruchomosci.otodom.pl\n",
      "Biuro nieruchomości Koloseum specjalizuje się w sprzedaży i wynajmie nieruchomości, działek, mieszkań, domów i lokali użytkowych na terenie Warszawy oraz innych regionów kraju. W naszej bazie znajdują się najciekawsze propozycje ofert. Dzięki wieloletniemu doświadczeniu naszych specjalistów, jesteśmy w stanie nie tylko zestawić kompleksowe i atrakcyjne oferty kupna, sprzedaży  wszelkiego rodzaju nieruchomości, ale również doradzić najlepszy wybór, mając na uwadze sugestie klientów.\n",
      "sprzedaż: 3646 od: 25 000 zł do: 17 000 000 zł\n"
     ]
    },
    {
     "data": {
      "text/plain": [
       "('3646 ',)"
      ]
     },
     "execution_count": 12,
     "metadata": {},
     "output_type": "execute_result"
    }
   ],
   "source": [
    "name = tmp.find(class_=\"company-item-title\").get_text().strip()\n",
    "print(name)\n",
    "since = tmp.find(class_=\"company-item-since\").get_text().strip()\n",
    "print(since)\n",
    "ulica, numer = tmp.find(class_=\"company-item-address\").contents[0].split(\" \", 1)\n",
    "print(ulica)\n",
    "print(numer)\n",
    "part1, wojewodztwo = tmp.find(class_=\"company-item-address\").contents[2].split(\",\")\n",
    "wojewodztwo = wojewodztwo.strip()\n",
    "kod, miasto = part1.replace(\",\", \"\").split(\" \", 1)\n",
    "print(wojewodztwo)\n",
    "print(miasto)\n",
    "print(kod)\n",
    "url = tmp.find(class_=\"company-item-title\").a[\"href\"]\n",
    "print(url)\n",
    "url_tmp = requests.get(url)\n",
    "url_soup = BeautifulSoup(url_tmp.content, 'html.parser')\n",
    "about = url_soup.find(class_=\"shop-about\").p.get_text()\n",
    "print(about)\n",
    "info_re = re.compile(\"sprzedaż: ([\\d ]+)\")# .*wynajem: ([\\d ]+).*\n",
    "info_tmp = tmp.find(class_=\"company-item-properties\").get_text().strip()\n",
    "print(info_tmp)\n",
    "m = info_re.match(info_tmp)\n",
    "m.groups()"
   ]
  },
  {
   "cell_type": "code",
   "execution_count": 4,
   "metadata": {
    "collapsed": false
   },
   "outputs": [],
   "source": [
    "import pandas as pd\n",
    "\n",
    "data = []\n",
    "for page in pages_range:\n",
    "    response = requests.get(biura_nieruchomosci_url + str(page))\n",
    "    soup = BeautifulSoup(response.content, 'html.parser')\n",
    "    biura = soup.find_all(class_=\"company-item\")\n",
    "    for biuro in biura:\n",
    "        name = biuro.find(class_=\"company-item-title\").get_text().strip()\n",
    "        since = biuro.find(class_=\"company-item-since\").get_text().strip()\n",
    "        ulica = biuro.find(class_=\"company-item-address\").contents[0]\n",
    "        part1, wojewodztwo = biuro.find(class_=\"company-item-address\").contents[2].split(\",\")\n",
    "        wojewodztwo = wojewodztwo.strip()\n",
    "        kod, miasto = part1.replace(\",\", \"\").split(\" \", 1)\n",
    "        url = biuro.find(class_=\"company-item-title\").a[\"href\"]\n",
    "        data.append({\"name\": name, \"since\": since, \"address\": ulica, \"province\": wojewodztwo,\n",
    "                     \"postcode\": kod, \"city\": miasto, \"url\": url})\n",
    "\n",
    "data_df = pd.DataFrame(data)"
   ]
  },
  {
   "cell_type": "code",
   "execution_count": 5,
   "metadata": {
    "collapsed": false
   },
   "outputs": [
    {
     "data": {
      "text/html": [
       "<div>\n",
       "<style scoped>\n",
       "    .dataframe tbody tr th:only-of-type {\n",
       "        vertical-align: middle;\n",
       "    }\n",
       "\n",
       "    .dataframe tbody tr th {\n",
       "        vertical-align: top;\n",
       "    }\n",
       "\n",
       "    .dataframe thead th {\n",
       "        text-align: right;\n",
       "    }\n",
       "</style>\n",
       "<table border=\"1\" class=\"dataframe\">\n",
       "  <thead>\n",
       "    <tr style=\"text-align: right;\">\n",
       "      <th></th>\n",
       "      <th>name</th>\n",
       "      <th>since</th>\n",
       "      <th>address</th>\n",
       "      <th>province</th>\n",
       "      <th>postcode</th>\n",
       "      <th>city</th>\n",
       "      <th>url</th>\n",
       "    </tr>\n",
       "  </thead>\n",
       "  <tbody>\n",
       "    <tr>\n",
       "      <th>0</th>\n",
       "      <td>KOLOSEUM NIERUCHOMOŚCI</td>\n",
       "      <td>09.08.2012</td>\n",
       "      <td>Domaniewska 37/31G</td>\n",
       "      <td>mazowieckie</td>\n",
       "      <td>02-672</td>\n",
       "      <td>Warszawa</td>\n",
       "      <td>https://koloseum-nieruchomosci.otodom.pl</td>\n",
       "    </tr>\n",
       "    <tr>\n",
       "      <th>1</th>\n",
       "      <td>Freedom Nieruchomości Franczyza</td>\n",
       "      <td>17.04.2018</td>\n",
       "      <td>Pokorna 2 lok. U13</td>\n",
       "      <td>mazowieckie</td>\n",
       "      <td>00-199</td>\n",
       "      <td>Warszawa</td>\n",
       "      <td>https://www.otodom.pl/shop/freedom-nieruchomos...</td>\n",
       "    </tr>\n",
       "    <tr>\n",
       "      <th>2</th>\n",
       "      <td>Expander Advisors</td>\n",
       "      <td>30.04.2015</td>\n",
       "      <td>Ul. Inflancka 4b</td>\n",
       "      <td>mazowieckie</td>\n",
       "      <td>00-189</td>\n",
       "      <td>Warszawa</td>\n",
       "      <td>https://www.otodom.pl/shop/expander-advisors-I...</td>\n",
       "    </tr>\n",
       "    <tr>\n",
       "      <th>3</th>\n",
       "      <td>Metrohouse  Franchise S.A.</td>\n",
       "      <td>02.07.2018</td>\n",
       "      <td>Żelazna 28/30</td>\n",
       "      <td>mazowieckie</td>\n",
       "      <td>00-832</td>\n",
       "      <td>Warszawa</td>\n",
       "      <td>https://metrohouse-franchise.otodom.pl</td>\n",
       "    </tr>\n",
       "    <tr>\n",
       "      <th>4</th>\n",
       "      <td>Maxon Nieruchomosci Sp. z o.o.</td>\n",
       "      <td>28.06.2018</td>\n",
       "      <td>Powązkowska 44C</td>\n",
       "      <td>mazowieckie</td>\n",
       "      <td>01-797</td>\n",
       "      <td>Warszawa</td>\n",
       "      <td>https://www.otodom.pl/shop/maxon-nieruchomosci...</td>\n",
       "    </tr>\n",
       "    <tr>\n",
       "      <th>...</th>\n",
       "      <td>...</td>\n",
       "      <td>...</td>\n",
       "      <td>...</td>\n",
       "      <td>...</td>\n",
       "      <td>...</td>\n",
       "      <td>...</td>\n",
       "      <td>...</td>\n",
       "    </tr>\n",
       "    <tr>\n",
       "      <th>1354</th>\n",
       "      <td>WG Property sp. z o.o.</td>\n",
       "      <td>11.08.2017</td>\n",
       "      <td>ul. Akcent 14A</td>\n",
       "      <td>mazowieckie</td>\n",
       "      <td>01-937</td>\n",
       "      <td>Warszawa</td>\n",
       "      <td>https://wgproperty.otodom.pl</td>\n",
       "    </tr>\n",
       "    <tr>\n",
       "      <th>1355</th>\n",
       "      <td>Moovin</td>\n",
       "      <td>23.05.2018</td>\n",
       "      <td>Spokojna 5</td>\n",
       "      <td>mazowieckie</td>\n",
       "      <td>01-044</td>\n",
       "      <td>Warszawa</td>\n",
       "      <td>https://www.otodom.pl/shop/moovin-IDhMBi/</td>\n",
       "    </tr>\n",
       "    <tr>\n",
       "      <th>1356</th>\n",
       "      <td>Nieruchomości</td>\n",
       "      <td>18.09.2018</td>\n",
       "      <td>Sołtana 3</td>\n",
       "      <td>mazowieckie</td>\n",
       "      <td>01-494</td>\n",
       "      <td>Warszawa</td>\n",
       "      <td>https://www.otodom.pl/shop/nieruchomosci-IDkPiE/</td>\n",
       "    </tr>\n",
       "    <tr>\n",
       "      <th>1357</th>\n",
       "      <td>RJ</td>\n",
       "      <td>22.11.2018</td>\n",
       "      <td>Marzanny</td>\n",
       "      <td>mazowieckie</td>\n",
       "      <td>02-649</td>\n",
       "      <td>Warszawa</td>\n",
       "      <td>https://www.otodom.pl/shop/rj-IDmiDO/</td>\n",
       "    </tr>\n",
       "    <tr>\n",
       "      <th>1358</th>\n",
       "      <td>Amita Andrzej Kołacz</td>\n",
       "      <td>18.12.2019</td>\n",
       "      <td>Nałęczowska 64/6</td>\n",
       "      <td>mazowieckie</td>\n",
       "      <td>02-922</td>\n",
       "      <td>Warszawa</td>\n",
       "      <td>https://www.otodom.pl/shop/amita-andrzej-kolac...</td>\n",
       "    </tr>\n",
       "  </tbody>\n",
       "</table>\n",
       "<p>1359 rows × 7 columns</p>\n",
       "</div>"
      ],
      "text/plain": [
       "                                 name       since             address  \\\n",
       "0              KOLOSEUM NIERUCHOMOŚCI  09.08.2012  Domaniewska 37/31G   \n",
       "1     Freedom Nieruchomości Franczyza  17.04.2018  Pokorna 2 lok. U13   \n",
       "2                   Expander Advisors  30.04.2015    Ul. Inflancka 4b   \n",
       "3          Metrohouse  Franchise S.A.  02.07.2018       Żelazna 28/30   \n",
       "4      Maxon Nieruchomosci Sp. z o.o.  28.06.2018     Powązkowska 44C   \n",
       "...                               ...         ...                 ...   \n",
       "1354           WG Property sp. z o.o.  11.08.2017      ul. Akcent 14A   \n",
       "1355                           Moovin  23.05.2018          Spokojna 5   \n",
       "1356                    Nieruchomości  18.09.2018           Sołtana 3   \n",
       "1357                               RJ  22.11.2018            Marzanny   \n",
       "1358             Amita Andrzej Kołacz  18.12.2019    Nałęczowska 64/6   \n",
       "\n",
       "         province postcode      city  \\\n",
       "0     mazowieckie   02-672  Warszawa   \n",
       "1     mazowieckie   00-199  Warszawa   \n",
       "2     mazowieckie   00-189  Warszawa   \n",
       "3     mazowieckie   00-832  Warszawa   \n",
       "4     mazowieckie   01-797  Warszawa   \n",
       "...           ...      ...       ...   \n",
       "1354  mazowieckie   01-937  Warszawa   \n",
       "1355  mazowieckie   01-044  Warszawa   \n",
       "1356  mazowieckie   01-494  Warszawa   \n",
       "1357  mazowieckie   02-649  Warszawa   \n",
       "1358  mazowieckie   02-922  Warszawa   \n",
       "\n",
       "                                                    url  \n",
       "0              https://koloseum-nieruchomosci.otodom.pl  \n",
       "1     https://www.otodom.pl/shop/freedom-nieruchomos...  \n",
       "2     https://www.otodom.pl/shop/expander-advisors-I...  \n",
       "3                https://metrohouse-franchise.otodom.pl  \n",
       "4     https://www.otodom.pl/shop/maxon-nieruchomosci...  \n",
       "...                                                 ...  \n",
       "1354                       https://wgproperty.otodom.pl  \n",
       "1355          https://www.otodom.pl/shop/moovin-IDhMBi/  \n",
       "1356   https://www.otodom.pl/shop/nieruchomosci-IDkPiE/  \n",
       "1357              https://www.otodom.pl/shop/rj-IDmiDO/  \n",
       "1358  https://www.otodom.pl/shop/amita-andrzej-kolac...  \n",
       "\n",
       "[1359 rows x 7 columns]"
      ]
     },
     "execution_count": 5,
     "metadata": {},
     "output_type": "execute_result"
    }
   ],
   "source": [
    "data_df"
   ]
  },
  {
   "cell_type": "code",
   "execution_count": 6,
   "metadata": {
    "collapsed": true
   },
   "outputs": [],
   "source": [
    "data_df.to_csv('biura.csv')"
   ]
  },
  {
   "cell_type": "code",
   "execution_count": null,
   "metadata": {
    "collapsed": true
   },
   "outputs": [],
   "source": []
  }
 ],
 "metadata": {
  "kernelspec": {
   "display_name": "Python 3",
   "language": "python",
   "name": "python3"
  },
  "language_info": {
   "codemirror_mode": {
    "name": "ipython",
    "version": 3
   },
   "file_extension": ".py",
   "mimetype": "text/x-python",
   "name": "python",
   "nbconvert_exporter": "python",
   "pygments_lexer": "ipython3",
   "version": "3.9.4"
  }
 },
 "nbformat": 4,
 "nbformat_minor": 2
}
