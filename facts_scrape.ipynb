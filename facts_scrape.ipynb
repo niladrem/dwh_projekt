{
 "cells": [
  {
   "cell_type": "code",
   "execution_count": 1,
   "metadata": {},
   "outputs": [],
   "source": [
    "from bs4 import BeautifulSoup\n",
    "import requests\n",
    "import re"
   ]
  },
  {
   "cell_type": "code",
   "execution_count": 2,
   "metadata": {},
   "outputs": [],
   "source": [
    "mieszkania_url = \"https://www.otodom.pl/sprzedaz/mieszkanie/warszawa/?search%5Bregion_id%5D=7&search%5Bsubregion_id%5D=197&search%5Bcity_id%5D=26&page=\"\n",
    "pages_range = range(1, 501)"
   ]
  },
  {
   "cell_type": "code",
   "execution_count": 3,
   "metadata": {},
   "outputs": [],
   "source": [
    "response = requests.get(mieszkania_url + \"1\")\n",
    "soup = BeautifulSoup(response.content, 'html.parser')"
   ]
  },
  {
   "cell_type": "code",
   "execution_count": 4,
   "metadata": {},
   "outputs": [],
   "source": [
    "mieszkania = soup.find_all(class_=\"offer-item\")"
   ]
  },
  {
   "cell_type": "code",
   "execution_count": 5,
   "metadata": {
    "scrolled": true
   },
   "outputs": [
    {
     "data": {
      "text/plain": [
       "<article class=\"offer-item ad_id4a9em\" data-featured-name=\"listing_no_promo\" data-item-id=\"4a9em\" data-tracking-id=\"61524110\" data-url=\"https://www.otodom.pl/pl/oferta/super-lokalizacja-2pok-42m2-metro-wierzbno-ID4a9em.html#8e0a67b43c\" id=\"offer-item-ad_id4a9em\">\n",
       "<figure class=\"offer-item-image\" data-featured-name=\"no_offer\" data-quick-gallery='[{\"photo\":\"https:\\/\\/ireland.apollo.olxcdn.com\\/v1\\/files\\/eyJmbiI6InUwYXQ2aWpuZjV4ZzItQVBMIiwidyI6W3siZm4iOiJqMWozbzEzbTZiZ24xLUFQTCIsInMiOiIxNCIsInAiOiIxMCwtMTAiLCJhIjoiMCJ9XX0.rYWaX-x_Q6kSdV2ypKWqZvtiDxmgO4XNWbQ2UjRMkqk\\/image;s=655x491;q=80\",\"thumb\":\"https:\\/\\/ireland.apollo.olxcdn.com\\/v1\\/files\\/eyJmbiI6InUwYXQ2aWpuZjV4ZzItQVBMIiwidyI6W3siZm4iOiJqMWozbzEzbTZiZ24xLUFQTCIsInMiOiIxNCIsInAiOiIxMCwtMTAiLCJhIjoiMCJ9XX0.rYWaX-x_Q6kSdV2ypKWqZvtiDxmgO4XNWbQ2UjRMkqk\\/image;s=184x138;q=80\"},{\"photo\":\"https:\\/\\/ireland.apollo.olxcdn.com\\/v1\\/files\\/eyJmbiI6IjI1Zmc4NXM2Mzk2bzEtQVBMIiwidyI6W3siZm4iOiJqMWozbzEzbTZiZ24xLUFQTCIsInMiOiIxNCIsInAiOiIxMCwtMTAiLCJhIjoiMCJ9XX0.PcDOqGYVeIKN22viCIOxc-rSLvtjoaGcKTrf9bZMs08\\/image;s=655x491;q=80\",\"thumb\":\"https:\\/\\/ireland.apollo.olxcdn.com\\/v1\\/files\\/eyJmbiI6IjI1Zmc4NXM2Mzk2bzEtQVBMIiwidyI6W3siZm4iOiJqMWozbzEzbTZiZ24xLUFQTCIsInMiOiIxNCIsInAiOiIxMCwtMTAiLCJhIjoiMCJ9XX0.PcDOqGYVeIKN22viCIOxc-rSLvtjoaGcKTrf9bZMs08\\/image;s=184x138;q=80\"},{\"photo\":\"https:\\/\\/ireland.apollo.olxcdn.com\\/v1\\/files\\/eyJmbiI6IjBldDNwdjdiMmtyajEtQVBMIiwidyI6W3siZm4iOiJqMWozbzEzbTZiZ24xLUFQTCIsInMiOiIxNCIsInAiOiIxMCwtMTAiLCJhIjoiMCJ9XX0.Ji4fRiXNdE_B7Rv9pVIVB9rn0yZc_yWlHVwSUq7xMjA\\/image;s=655x491;q=80\",\"thumb\":\"https:\\/\\/ireland.apollo.olxcdn.com\\/v1\\/files\\/eyJmbiI6IjBldDNwdjdiMmtyajEtQVBMIiwidyI6W3siZm4iOiJqMWozbzEzbTZiZ24xLUFQTCIsInMiOiIxNCIsInAiOiIxMCwtMTAiLCJhIjoiMCJ9XX0.Ji4fRiXNdE_B7Rv9pVIVB9rn0yZc_yWlHVwSUq7xMjA\\/image;s=184x138;q=80\"},{\"photo\":\"https:\\/\\/ireland.apollo.olxcdn.com\\/v1\\/files\\/eyJmbiI6IjA5azA1eXB1M24yYS1BUEwiLCJ3IjpbeyJmbiI6ImoxajNvMTNtNmJnbjEtQVBMIiwicyI6IjE0IiwicCI6IjEwLC0xMCIsImEiOiIwIn1dfQ.wsH3gPIsmdshCV_ZXW2Q11PS5wGeHruNK5zpKBnOZdQ\\/image;s=655x491;q=80\",\"thumb\":\"https:\\/\\/ireland.apollo.olxcdn.com\\/v1\\/files\\/eyJmbiI6IjA5azA1eXB1M24yYS1BUEwiLCJ3IjpbeyJmbiI6ImoxajNvMTNtNmJnbjEtQVBMIiwicyI6IjE0IiwicCI6IjEwLC0xMCIsImEiOiIwIn1dfQ.wsH3gPIsmdshCV_ZXW2Q11PS5wGeHruNK5zpKBnOZdQ\\/image;s=184x138;q=80\"},{\"photo\":\"https:\\/\\/ireland.apollo.olxcdn.com\\/v1\\/files\\/eyJmbiI6Imljb3hyd283cnNlNTEtQVBMIiwidyI6W3siZm4iOiJqMWozbzEzbTZiZ24xLUFQTCIsInMiOiIxNCIsInAiOiIxMCwtMTAiLCJhIjoiMCJ9XX0.I507BgzmuMeJdS0TzORejWgjzXuQNmLboU8oIgZhXDc\\/image;s=655x491;q=80\",\"thumb\":\"https:\\/\\/ireland.apollo.olxcdn.com\\/v1\\/files\\/eyJmbiI6Imljb3hyd283cnNlNTEtQVBMIiwidyI6W3siZm4iOiJqMWozbzEzbTZiZ24xLUFQTCIsInMiOiIxNCIsInAiOiIxMCwtMTAiLCJhIjoiMCJ9XX0.I507BgzmuMeJdS0TzORejWgjzXuQNmLboU8oIgZhXDc\\/image;s=184x138;q=80\"},{\"photo\":\"https:\\/\\/ireland.apollo.olxcdn.com\\/v1\\/files\\/eyJmbiI6ImgzaGFrZWp1cXFsZTMtQVBMIiwidyI6W3siZm4iOiJqMWozbzEzbTZiZ24xLUFQTCIsInMiOiIxNCIsInAiOiIxMCwtMTAiLCJhIjoiMCJ9XX0.ZFKPhHRUKKXash36GWOqdGeKD0--5FKJ-jh2YKCIJio\\/image;s=655x491;q=80\",\"thumb\":\"https:\\/\\/ireland.apollo.olxcdn.com\\/v1\\/files\\/eyJmbiI6ImgzaGFrZWp1cXFsZTMtQVBMIiwidyI6W3siZm4iOiJqMWozbzEzbTZiZ24xLUFQTCIsInMiOiIxNCIsInAiOiIxMCwtMTAiLCJhIjoiMCJ9XX0.ZFKPhHRUKKXash36GWOqdGeKD0--5FKJ-jh2YKCIJio\\/image;s=184x138;q=80\"},{\"photo\":\"https:\\/\\/ireland.apollo.olxcdn.com\\/v1\\/files\\/eyJmbiI6InNtZTF6bXpqbG5oMy1BUEwiLCJ3IjpbeyJmbiI6ImoxajNvMTNtNmJnbjEtQVBMIiwicyI6IjE0IiwicCI6IjEwLC0xMCIsImEiOiIwIn1dfQ.XvEdmaDtaHPXw1YNybGUH6Un2g97kZpPyzLGsKID-5M\\/image;s=655x491;q=80\",\"thumb\":\"https:\\/\\/ireland.apollo.olxcdn.com\\/v1\\/files\\/eyJmbiI6InNtZTF6bXpqbG5oMy1BUEwiLCJ3IjpbeyJmbiI6ImoxajNvMTNtNmJnbjEtQVBMIiwicyI6IjE0IiwicCI6IjEwLC0xMCIsImEiOiIwIn1dfQ.XvEdmaDtaHPXw1YNybGUH6Un2g97kZpPyzLGsKID-5M\\/image;s=184x138;q=80\"},{\"photo\":\"https:\\/\\/ireland.apollo.olxcdn.com\\/v1\\/files\\/eyJmbiI6InhlOXV5cDk5Ymo5by1BUEwiLCJ3IjpbeyJmbiI6ImoxajNvMTNtNmJnbjEtQVBMIiwicyI6IjE0IiwicCI6IjEwLC0xMCIsImEiOiIwIn1dfQ.pVKTOKtTr9XxBDqqiwh5rcYxhsxHT2oWb0JxoVigaaU\\/image;s=655x491;q=80\",\"thumb\":\"https:\\/\\/ireland.apollo.olxcdn.com\\/v1\\/files\\/eyJmbiI6InhlOXV5cDk5Ymo5by1BUEwiLCJ3IjpbeyJmbiI6ImoxajNvMTNtNmJnbjEtQVBMIiwicyI6IjE0IiwicCI6IjEwLC0xMCIsImEiOiIwIn1dfQ.pVKTOKtTr9XxBDqqiwh5rcYxhsxHT2oWb0JxoVigaaU\\/image;s=184x138;q=80\"},{\"photo\":\"https:\\/\\/ireland.apollo.olxcdn.com\\/v1\\/files\\/eyJmbiI6ImE2cHk3b3FtcXVzNTEtQVBMIiwidyI6W3siZm4iOiJqMWozbzEzbTZiZ24xLUFQTCIsInMiOiIxNCIsInAiOiIxMCwtMTAiLCJhIjoiMCJ9XX0.9SHnHRKyQGoOtm9DegkAJASPs4cFvcgqqTc9Jo5eXg8\\/image;s=655x491;q=80\",\"thumb\":\"https:\\/\\/ireland.apollo.olxcdn.com\\/v1\\/files\\/eyJmbiI6ImE2cHk3b3FtcXVzNTEtQVBMIiwidyI6W3siZm4iOiJqMWozbzEzbTZiZ24xLUFQTCIsInMiOiIxNCIsInAiOiIxMCwtMTAiLCJhIjoiMCJ9XX0.9SHnHRKyQGoOtm9DegkAJASPs4cFvcgqqTc9Jo5eXg8\\/image;s=184x138;q=80\"},{\"photo\":\"https:\\/\\/ireland.apollo.olxcdn.com\\/v1\\/files\\/eyJmbiI6ImppMDBqc2pzajh0ejItQVBMIiwidyI6W3siZm4iOiJqMWozbzEzbTZiZ24xLUFQTCIsInMiOiIxNCIsInAiOiIxMCwtMTAiLCJhIjoiMCJ9XX0.KMRY7kIZfGrdYI7dahCtH3xSVDSv8t_7tVrVIqknGtM\\/image;s=655x491;q=80\",\"thumb\":\"https:\\/\\/ireland.apollo.olxcdn.com\\/v1\\/files\\/eyJmbiI6ImppMDBqc2pzajh0ejItQVBMIiwidyI6W3siZm4iOiJqMWozbzEzbTZiZ24xLUFQTCIsInMiOiIxNCIsInAiOiIxMCwtMTAiLCJhIjoiMCJ9XX0.KMRY7kIZfGrdYI7dahCtH3xSVDSv8t_7tVrVIqknGtM\\/image;s=184x138;q=80\"}]'>\n",
       "<a data-featured-name=\"listing_no_promo\" data-tracking=\"click_body\" data-tracking-data='{\"touch_point_button\":\"photo\"}' href=\"https://www.otodom.pl/pl/oferta/super-lokalizacja-2pok-42m2-metro-wierzbno-ID4a9em.html#8e0a67b43c\">\n",
       "<span class=\"img-cover lazy\" data-src=\"https://ireland.apollo.olxcdn.com/v1/files/eyJmbiI6InUwYXQ2aWpuZjV4ZzItQVBMIiwidyI6W3siZm4iOiJqMWozbzEzbTZiZ24xLUFQTCIsInMiOiIxNCIsInAiOiIxMCwtMTAiLCJhIjoiMCJ9XX0.rYWaX-x_Q6kSdV2ypKWqZvtiDxmgO4XNWbQ2UjRMkqk/image;s=655x491;q=80\" title=\"Mieszkanie na sprzedaż o powierzchni 39,30 m² - Warszawa, Mokotów, Górny Mokotów - zdjęcie 1\"></span>\n",
       "<span class=\"promoted-label\" data-label=\"Tylko w Otodom\"></span>\n",
       "<div class=\"virtual-tours\">\n",
       "<ul>\n",
       "</ul>\n",
       "</div>\n",
       "</a>\n",
       "<div class=\"developer-offer-title\">Oferta dewelopera</div>\n",
       "</figure>\n",
       "<div class=\"offer-item-details\">\n",
       "<header class=\"offer-item-header\">\n",
       "<h3>\n",
       "<a data-featured-name=\"listing_no_promo\" data-tracking=\"click_body\" data-tracking-data='{\"touch_point_button\":\"title\"}' href=\"https://www.otodom.pl/pl/oferta/super-lokalizacja-2pok-42m2-metro-wierzbno-ID4a9em.html#8e0a67b43c\">\n",
       "<strong class=\"visible-xs-block\">39,30 m²</strong>\n",
       "<span class=\"text-nowrap\">\n",
       "<span class=\"offer-item-title\">Super Lokalizacja!!! / 2Pok./ 42m2/Metro Wierzbno/</span>\n",
       "</span>\n",
       "</a>\n",
       "</h3>\n",
       "<p class=\"text-nowrap\"><span class=\"hidden-xs\">Mieszkanie na sprzedaż: </span>Warszawa, Mokotów, Górny Mokotów</p>\n",
       "<div class=\"vas-list-no-offer\">\n",
       "<a class=\"button-observed observe-link favourites-button observed-text\" data-id=\"61524110\" data-statkey=\"ad.observed.list\" href=\"#\" rel=\"nofollow\">\n",
       "<div class=\"observed-text-container\">\n",
       "<span class=\"icon observed-61524110\"></span>\n",
       "<i class=\"icon-heart-filled\"></i>\n",
       "<div class=\"observed-label\"></div>\n",
       "</div>\n",
       "</a>\n",
       "</div>\n",
       "</header>\n",
       "<ul class=\"params\" data-tracking=\"click_body\" data-tracking-data='{\"touch_point_button\":\"body\"}'>\n",
       "<li class=\"offer-item-rooms hidden-xs\">2 pokoje</li>\n",
       "<li class=\"offer-item-price\">\n",
       "                                                                                    540 000 zł                                                                                                                                </li>\n",
       "<li class=\"hidden-xs offer-item-area\">39,30 m²</li>\n",
       "<li class=\"hidden-xs offer-item-price-per-m\">13 740 zł/m²</li>\n",
       "</ul>\n",
       "</div>\n",
       "<div class=\"offer-item-details-bottom\" data-tracking=\"click_body\" data-tracking-data='{\"touch_point_button\":\"body\"}'>\n",
       "<ul class=\"params-small clearfix hidden-xs\">\n",
       "<li class=\"pull-right\">\n",
       "                                                                                                        Warsaw Real House NIERUCHOMOŚCI                                                                                        </li>\n",
       "</ul>\n",
       "</div>\n",
       "<div class=\"offer-item-observe-button vas-list-no-offer\">\n",
       "<a class=\"button-observed observe-link favourites-button\" data-id=\"61524110\" data-statkey=\"ad.observed.list\" href=\"#\" rel=\"nofollow\">\n",
       "<span class=\"icon observed-61524110\"></span>\n",
       "<svg height=\"100%\" version=\"1.1\" viewbox=\"0 0 52 47\" width=\"100%\" xmlns=\"http://www.w3.org/2000/svg\" xmlns:xlink=\"http://www.w3.org/1999/xlink\">\n",
       "<g fill-rule=\"evenodd\" id=\"14_SubAccounts\" stroke=\"none\" stroke-width=\"1\">\n",
       "<g fill-rule=\"nonzero\" id=\"#-styleguide\" transform=\"translate(-290.000000, -3431.000000)\">\n",
       "<g id=\"heart-regular\" transform=\"translate(290.000000, 3417.000000)\">\n",
       "<g id=\"Group-7\" transform=\"translate(0.000000, 14.000000)\">\n",
       "<g id=\"Group-6\">\n",
       "<path d=\"M44.9749792,5.0327098 C39.5562332,0.472655041 31.1843643,1.15760154 25.9999932,6.44013411 C20.815622,1.15760154 12.4437532,0.463272213 7.0250072,5.0327098 C-0.0249875872,10.9720404 1.00626165,20.6551196 6.03125794,25.7875269 L22.4749958,42.5546419 C23.4124951,43.5116904 24.6687442,44.0465116 25.9999932,44.0465116 C27.3406172,44.0465116 28.5874913,43.5210732 29.5249906,42.5640247 L45.9687284,25.7969098 C50.9843497,20.6645025 52.0343489,10.9814232 44.9749792,5.0327098 Z\" id=\"Path\"></path>\n",
       "<path d=\"M46.2718892,3.50241459 C53.7431472,9.79821295 53.7229457,20.7330078 47.4057954,27.197245 L30.9628717,43.9635293 C29.6487574,45.3050462 27.8867501,46.04647 26.009144,46.04647 C24.1408152,46.04647 22.3695113,45.2956437 21.0562304,43.9549771 L4.61132027,27.1866659 C-1.70790147,20.7323686 -1.72137807,9.79370898 5.74484956,3.50371964 C11.4787764,-1.33149882 20.0613911,-1.07727526 26.0092656,3.74139162 C31.9542156,-1.07326776 40.5355381,-1.32491546 46.2718892,3.50241459 Z M27.4365577,7.8409816 L26.009144,9.29542206 L24.5817303,7.8409816 C20.0856339,3.25975559 12.8944426,2.70707366 8.32274593,6.56222409 C2.70796719,11.2924442 2.7181226,19.5353679 7.46832495,24.3871085 L23.9128769,41.155054 C24.4776636,41.731618 25.2204435,42.04647 26.009144,42.04647 C26.8109459,42.04647 27.5432365,41.7383341 28.1062252,41.1636062 L44.5474853,24.3990223 C49.2979771,19.5379178 49.3133455,11.2966718 43.6958622,6.56249388 C39.1208731,2.7129779 31.9290821,3.26339526 27.4365577,7.8409816 Z\" fill=\"#FFFFFF\" id=\"Path\"></path>\n",
       "</g>\n",
       "</g>\n",
       "</g>\n",
       "</g>\n",
       "</g>\n",
       "</svg>\n",
       "</a>\n",
       "</div>\n",
       "</article>"
      ]
     },
     "execution_count": 5,
     "metadata": {},
     "output_type": "execute_result"
    }
   ],
   "source": [
    "tmp = mieszkania[3]\n",
    "tmp"
   ]
  },
  {
   "cell_type": "code",
   "execution_count": 6,
   "metadata": {},
   "outputs": [
    {
     "data": {
      "text/plain": [
       "'https://www.otodom.pl/pl/oferta/super-lokalizacja-2pok-42m2-metro-wierzbno-ID4a9em.html#8e0a67b43c'"
      ]
     },
     "execution_count": 6,
     "metadata": {},
     "output_type": "execute_result"
    }
   ],
   "source": [
    "tmp['data-url']"
   ]
  },
  {
   "cell_type": "code",
   "execution_count": 7,
   "metadata": {},
   "outputs": [
    {
     "name": "stdout",
     "output_type": "stream",
     "text": [
      "Super Lokalizacja!!! / 2Pok./ 42m2/Metro Wierzbno/\n",
      "https://www.otodom.pl/pl/oferta/super-lokalizacja-2pok-42m2-metro-wierzbno-ID4a9em.html#8e0a67b43c\n",
      "[<div class=\"css-1d9dws4 egzohkh2\"><style data-emotion=\"css 18h1kfv\">.css-18h1kfv{display:grid;grid-column-gap:6px;grid-template-areas:'title desc';grid-template-columns:min-content 1fr;-webkit-flex:1 1 50%;-ms-flex:1 1 50%;flex:1 1 50%;min-height:25px;color:#424242;font-size:15px;}@media (min-width: 991px){.css-18h1kfv{-webkit-flex:1 1 33%;-ms-flex:1 1 33%;flex:1 1 33%;max-width:33%;}}</style><div aria-label=\"Powierzchnia\" class=\"css-18h1kfv ev4i3ak3\" role=\"region\"><style data-emotion=\"css o4i8bk\">.css-o4i8bk{overflow:hidden;font-weight:400;text-overflow:ellipsis;white-space:nowrap;}</style><div class=\"css-o4i8bk ev4i3ak2\" title=\"Powierzchnia\">Powierzchnia<!-- -->:</div><style data-emotion=\"css 1ytkscc\">.css-1ytkscc{grid-area:desc;overflow:initial;font-weight:700;text-overflow:initial;white-space:initial;}</style><div class=\"css-1ytkscc ev4i3ak0\" title=\"39,30 m²\">39,30 m²</div></div><div aria-label=\"Liczba pokoi\" class=\"css-18h1kfv ev4i3ak3\" role=\"region\"><div class=\"css-o4i8bk ev4i3ak2\" title=\"Liczba pokoi\">Liczba pokoi<!-- -->:</div><div class=\"css-1ytkscc ev4i3ak0\" title=\"2\">2</div></div><div aria-label=\"Rynek\" class=\"css-18h1kfv ev4i3ak3\" role=\"region\"><div class=\"css-o4i8bk ev4i3ak2\" title=\"Rynek\">Rynek<!-- -->:</div><div class=\"css-1ytkscc ev4i3ak0\" title=\"wtórny\">wtórny</div></div><div aria-label=\"Rodzaj zabudowy\" class=\"css-18h1kfv ev4i3ak3\" role=\"region\"><div class=\"css-o4i8bk ev4i3ak2\" title=\"Rodzaj zabudowy\">Rodzaj zabudowy<!-- -->:</div><div class=\"css-1ytkscc ev4i3ak0\" title=\"blok\">blok</div></div><div aria-label=\"Piętro\" class=\"css-18h1kfv ev4i3ak3\" role=\"region\"><div class=\"css-o4i8bk ev4i3ak2\" title=\"Piętro\">Piętro<!-- -->:</div><div class=\"css-1ytkscc ev4i3ak0\" title=\"1\">1</div></div><div aria-label=\"Liczba pięter\" class=\"css-18h1kfv ev4i3ak3\" role=\"region\"><div class=\"css-o4i8bk ev4i3ak2\" title=\"Liczba pięter\">Liczba pięter<!-- -->:</div><div class=\"css-1ytkscc ev4i3ak0\" title=\"8\">8</div></div><div aria-label=\"Materiał budynku\" class=\"css-18h1kfv ev4i3ak3\" role=\"region\"><div class=\"css-o4i8bk ev4i3ak2\" title=\"Materiał budynku\">Materiał budynku<!-- -->:</div><div class=\"css-1ytkscc ev4i3ak0\" title=\"cegła\">cegła</div></div><div aria-label=\"Ogrzewanie\" class=\"css-18h1kfv ev4i3ak3\" role=\"region\"><div class=\"css-o4i8bk ev4i3ak2\" title=\"Ogrzewanie\">Ogrzewanie<!-- -->:</div><div class=\"css-1ytkscc ev4i3ak0\" title=\"miejskie\">miejskie</div></div><div aria-label=\"Rok budowy\" class=\"css-18h1kfv ev4i3ak3\" role=\"region\"><div class=\"css-o4i8bk ev4i3ak2\" title=\"Rok budowy\">Rok budowy<!-- -->:</div><div class=\"css-1ytkscc ev4i3ak0\" title=\"1967\">1967</div></div><div aria-label=\"Stan wykończenia\" class=\"css-18h1kfv ev4i3ak3\" role=\"region\"><div class=\"css-o4i8bk ev4i3ak2\" title=\"Stan wykończenia\">Stan wykończenia<!-- -->:</div><div class=\"css-1ytkscc ev4i3ak0\" title=\"do remontu\">do remontu</div></div><div aria-label=\"Czynsz\" class=\"css-18h1kfv ev4i3ak3\" role=\"region\"><div class=\"css-o4i8bk ev4i3ak2\" title=\"Czynsz\">Czynsz<!-- -->:</div><div class=\"css-1ytkscc ev4i3ak0\" title=\"485 zł\">485 zł</div></div><div aria-label=\"Forma własności\" class=\"css-18h1kfv ev4i3ak3\" role=\"region\"><div class=\"css-o4i8bk ev4i3ak2\" title=\"Forma własności\">Forma własności<!-- -->:</div><div class=\"css-1ytkscc ev4i3ak0\" title=\"pełna własność\">pełna własność</div></div></div>]\n"
     ]
    }
   ],
   "source": [
    "name = tmp.find(class_=\"offer-item-title\").get_text().strip()\n",
    "print(name)\n",
    "'''since = tmp.find(class_=\"offer-item-since\").get_text().strip()\n",
    "print(since)\n",
    "ulica, numer = tmp.find(class_=\"offer-item-address\").contents[0].split(\" \", 1)\n",
    "print(ulica)\n",
    "print(numer)\n",
    "part1, wojewodztwo = tmp.find(class_=\"offer-item-address\").contents[2].split(\",\")\n",
    "wojewodztwo = wojewodztwo.strip()\n",
    "kod, miasto = part1.replace(\",\", \"\").split(\" \", 1)\n",
    "print(wojewodztwo)\n",
    "print(miasto)\n",
    "print(kod)'''\n",
    "#url = tmp.find(class_=\"offer-item-title\").a[\"href\"]\n",
    "url = tmp[\"data-url\"]\n",
    "print(url)\n",
    "url_tmp = requests.get(url)\n",
    "url_soup = BeautifulSoup(url_tmp.content, 'html.parser')\n",
    "#about = url_soup.find(class_=\"shop-about\").p.get_text()\n",
    "#print(about)\n",
    "#info_re = re.compile(\"sprzedaż: ([\\d ]+)\")# .*wynajem: ([\\d ]+).*\n",
    "#info_tmp = tmp.find(class_=\"css-1d9dws4\").get_text().strip()\n",
    "info_tmp = url_soup.find_all(class_=\"css-1d9dws4\")\n",
    "print(info_tmp)\n",
    "#m = info_re.match(info_tmp)\n",
    "#m.groups()"
   ]
  },
  {
   "cell_type": "code",
   "execution_count": 8,
   "metadata": {},
   "outputs": [
    {
     "data": {
      "text/plain": [
       "<div class=\"css-1d9dws4 egzohkh2\"><style data-emotion=\"css 18h1kfv\">.css-18h1kfv{display:grid;grid-column-gap:6px;grid-template-areas:'title desc';grid-template-columns:min-content 1fr;-webkit-flex:1 1 50%;-ms-flex:1 1 50%;flex:1 1 50%;min-height:25px;color:#424242;font-size:15px;}@media (min-width: 991px){.css-18h1kfv{-webkit-flex:1 1 33%;-ms-flex:1 1 33%;flex:1 1 33%;max-width:33%;}}</style><div aria-label=\"Powierzchnia\" class=\"css-18h1kfv ev4i3ak3\" role=\"region\"><style data-emotion=\"css o4i8bk\">.css-o4i8bk{overflow:hidden;font-weight:400;text-overflow:ellipsis;white-space:nowrap;}</style><div class=\"css-o4i8bk ev4i3ak2\" title=\"Powierzchnia\">Powierzchnia<!-- -->:</div><style data-emotion=\"css 1ytkscc\">.css-1ytkscc{grid-area:desc;overflow:initial;font-weight:700;text-overflow:initial;white-space:initial;}</style><div class=\"css-1ytkscc ev4i3ak0\" title=\"39,30 m²\">39,30 m²</div></div><div aria-label=\"Liczba pokoi\" class=\"css-18h1kfv ev4i3ak3\" role=\"region\"><div class=\"css-o4i8bk ev4i3ak2\" title=\"Liczba pokoi\">Liczba pokoi<!-- -->:</div><div class=\"css-1ytkscc ev4i3ak0\" title=\"2\">2</div></div><div aria-label=\"Rynek\" class=\"css-18h1kfv ev4i3ak3\" role=\"region\"><div class=\"css-o4i8bk ev4i3ak2\" title=\"Rynek\">Rynek<!-- -->:</div><div class=\"css-1ytkscc ev4i3ak0\" title=\"wtórny\">wtórny</div></div><div aria-label=\"Rodzaj zabudowy\" class=\"css-18h1kfv ev4i3ak3\" role=\"region\"><div class=\"css-o4i8bk ev4i3ak2\" title=\"Rodzaj zabudowy\">Rodzaj zabudowy<!-- -->:</div><div class=\"css-1ytkscc ev4i3ak0\" title=\"blok\">blok</div></div><div aria-label=\"Piętro\" class=\"css-18h1kfv ev4i3ak3\" role=\"region\"><div class=\"css-o4i8bk ev4i3ak2\" title=\"Piętro\">Piętro<!-- -->:</div><div class=\"css-1ytkscc ev4i3ak0\" title=\"1\">1</div></div><div aria-label=\"Liczba pięter\" class=\"css-18h1kfv ev4i3ak3\" role=\"region\"><div class=\"css-o4i8bk ev4i3ak2\" title=\"Liczba pięter\">Liczba pięter<!-- -->:</div><div class=\"css-1ytkscc ev4i3ak0\" title=\"8\">8</div></div><div aria-label=\"Materiał budynku\" class=\"css-18h1kfv ev4i3ak3\" role=\"region\"><div class=\"css-o4i8bk ev4i3ak2\" title=\"Materiał budynku\">Materiał budynku<!-- -->:</div><div class=\"css-1ytkscc ev4i3ak0\" title=\"cegła\">cegła</div></div><div aria-label=\"Ogrzewanie\" class=\"css-18h1kfv ev4i3ak3\" role=\"region\"><div class=\"css-o4i8bk ev4i3ak2\" title=\"Ogrzewanie\">Ogrzewanie<!-- -->:</div><div class=\"css-1ytkscc ev4i3ak0\" title=\"miejskie\">miejskie</div></div><div aria-label=\"Rok budowy\" class=\"css-18h1kfv ev4i3ak3\" role=\"region\"><div class=\"css-o4i8bk ev4i3ak2\" title=\"Rok budowy\">Rok budowy<!-- -->:</div><div class=\"css-1ytkscc ev4i3ak0\" title=\"1967\">1967</div></div><div aria-label=\"Stan wykończenia\" class=\"css-18h1kfv ev4i3ak3\" role=\"region\"><div class=\"css-o4i8bk ev4i3ak2\" title=\"Stan wykończenia\">Stan wykończenia<!-- -->:</div><div class=\"css-1ytkscc ev4i3ak0\" title=\"do remontu\">do remontu</div></div><div aria-label=\"Czynsz\" class=\"css-18h1kfv ev4i3ak3\" role=\"region\"><div class=\"css-o4i8bk ev4i3ak2\" title=\"Czynsz\">Czynsz<!-- -->:</div><div class=\"css-1ytkscc ev4i3ak0\" title=\"485 zł\">485 zł</div></div><div aria-label=\"Forma własności\" class=\"css-18h1kfv ev4i3ak3\" role=\"region\"><div class=\"css-o4i8bk ev4i3ak2\" title=\"Forma własności\">Forma własności<!-- -->:</div><div class=\"css-1ytkscc ev4i3ak0\" title=\"pełna własność\">pełna własność</div></div></div>"
      ]
     },
     "execution_count": 8,
     "metadata": {},
     "output_type": "execute_result"
    }
   ],
   "source": [
    "info_tmp[0]"
   ]
  },
  {
   "cell_type": "code",
   "execution_count": 9,
   "metadata": {},
   "outputs": [
    {
     "data": {
      "text/plain": [
       "[<div aria-label=\"Powierzchnia\" class=\"css-18h1kfv ev4i3ak3\" role=\"region\"><style data-emotion=\"css o4i8bk\">.css-o4i8bk{overflow:hidden;font-weight:400;text-overflow:ellipsis;white-space:nowrap;}</style><div class=\"css-o4i8bk ev4i3ak2\" title=\"Powierzchnia\">Powierzchnia<!-- -->:</div><style data-emotion=\"css 1ytkscc\">.css-1ytkscc{grid-area:desc;overflow:initial;font-weight:700;text-overflow:initial;white-space:initial;}</style><div class=\"css-1ytkscc ev4i3ak0\" title=\"39,30 m²\">39,30 m²</div></div>,\n",
       " <div aria-label=\"Liczba pokoi\" class=\"css-18h1kfv ev4i3ak3\" role=\"region\"><div class=\"css-o4i8bk ev4i3ak2\" title=\"Liczba pokoi\">Liczba pokoi<!-- -->:</div><div class=\"css-1ytkscc ev4i3ak0\" title=\"2\">2</div></div>,\n",
       " <div aria-label=\"Rynek\" class=\"css-18h1kfv ev4i3ak3\" role=\"region\"><div class=\"css-o4i8bk ev4i3ak2\" title=\"Rynek\">Rynek<!-- -->:</div><div class=\"css-1ytkscc ev4i3ak0\" title=\"wtórny\">wtórny</div></div>,\n",
       " <div aria-label=\"Rodzaj zabudowy\" class=\"css-18h1kfv ev4i3ak3\" role=\"region\"><div class=\"css-o4i8bk ev4i3ak2\" title=\"Rodzaj zabudowy\">Rodzaj zabudowy<!-- -->:</div><div class=\"css-1ytkscc ev4i3ak0\" title=\"blok\">blok</div></div>,\n",
       " <div aria-label=\"Piętro\" class=\"css-18h1kfv ev4i3ak3\" role=\"region\"><div class=\"css-o4i8bk ev4i3ak2\" title=\"Piętro\">Piętro<!-- -->:</div><div class=\"css-1ytkscc ev4i3ak0\" title=\"1\">1</div></div>,\n",
       " <div aria-label=\"Liczba pięter\" class=\"css-18h1kfv ev4i3ak3\" role=\"region\"><div class=\"css-o4i8bk ev4i3ak2\" title=\"Liczba pięter\">Liczba pięter<!-- -->:</div><div class=\"css-1ytkscc ev4i3ak0\" title=\"8\">8</div></div>,\n",
       " <div aria-label=\"Materiał budynku\" class=\"css-18h1kfv ev4i3ak3\" role=\"region\"><div class=\"css-o4i8bk ev4i3ak2\" title=\"Materiał budynku\">Materiał budynku<!-- -->:</div><div class=\"css-1ytkscc ev4i3ak0\" title=\"cegła\">cegła</div></div>,\n",
       " <div aria-label=\"Ogrzewanie\" class=\"css-18h1kfv ev4i3ak3\" role=\"region\"><div class=\"css-o4i8bk ev4i3ak2\" title=\"Ogrzewanie\">Ogrzewanie<!-- -->:</div><div class=\"css-1ytkscc ev4i3ak0\" title=\"miejskie\">miejskie</div></div>,\n",
       " <div aria-label=\"Rok budowy\" class=\"css-18h1kfv ev4i3ak3\" role=\"region\"><div class=\"css-o4i8bk ev4i3ak2\" title=\"Rok budowy\">Rok budowy<!-- -->:</div><div class=\"css-1ytkscc ev4i3ak0\" title=\"1967\">1967</div></div>,\n",
       " <div aria-label=\"Stan wykończenia\" class=\"css-18h1kfv ev4i3ak3\" role=\"region\"><div class=\"css-o4i8bk ev4i3ak2\" title=\"Stan wykończenia\">Stan wykończenia<!-- -->:</div><div class=\"css-1ytkscc ev4i3ak0\" title=\"do remontu\">do remontu</div></div>,\n",
       " <div aria-label=\"Czynsz\" class=\"css-18h1kfv ev4i3ak3\" role=\"region\"><div class=\"css-o4i8bk ev4i3ak2\" title=\"Czynsz\">Czynsz<!-- -->:</div><div class=\"css-1ytkscc ev4i3ak0\" title=\"485 zł\">485 zł</div></div>,\n",
       " <div aria-label=\"Forma własności\" class=\"css-18h1kfv ev4i3ak3\" role=\"region\"><div class=\"css-o4i8bk ev4i3ak2\" title=\"Forma własności\">Forma własności<!-- -->:</div><div class=\"css-1ytkscc ev4i3ak0\" title=\"pełna własność\">pełna własność</div></div>]"
      ]
     },
     "execution_count": 9,
     "metadata": {},
     "output_type": "execute_result"
    }
   ],
   "source": [
    "info_tmp[0].find_all(class_=\"css-18h1kfv\")"
   ]
  },
  {
   "cell_type": "code",
   "execution_count": 10,
   "metadata": {},
   "outputs": [],
   "source": [
    "adres = url_soup.find(class_=\"css-1qz7z11\").get_text().strip()"
   ]
  },
  {
   "cell_type": "code",
   "execution_count": 11,
   "metadata": {},
   "outputs": [
    {
     "data": {
      "text/plain": [
       "['Warszawa', 'Mokotów', 'Górny Mokotów']"
      ]
     },
     "execution_count": 11,
     "metadata": {},
     "output_type": "execute_result"
    }
   ],
   "source": [
    "adres.split(', ')"
   ]
  },
  {
   "cell_type": "code",
   "execution_count": 12,
   "metadata": {},
   "outputs": [
    {
     "data": {
      "text/plain": [
       "'Mokotów'"
      ]
     },
     "execution_count": 12,
     "metadata": {},
     "output_type": "execute_result"
    }
   ],
   "source": [
    "dzielnica = adres.split(', ')[1]\n",
    "dzielnica"
   ]
  },
  {
   "cell_type": "code",
   "execution_count": 13,
   "metadata": {},
   "outputs": [],
   "source": [
    "cena = url_soup.find_all(attrs={'aria-label': 'Cena'})[0].get_text().strip().replace(' ', '').replace('zł', '')"
   ]
  },
  {
   "cell_type": "code",
   "execution_count": 14,
   "metadata": {},
   "outputs": [
    {
     "data": {
      "text/plain": [
       "'540000'"
      ]
     },
     "execution_count": 14,
     "metadata": {},
     "output_type": "execute_result"
    }
   ],
   "source": [
    "cena"
   ]
  },
  {
   "cell_type": "code",
   "execution_count": 15,
   "metadata": {},
   "outputs": [],
   "source": [
    "cenam2 = url_soup.find_all(attrs={'aria-label': 'Cena za metr kwadratowy'})[0].get_text().strip().replace(' ', '').replace('zł/m²', '')"
   ]
  },
  {
   "cell_type": "code",
   "execution_count": 16,
   "metadata": {},
   "outputs": [
    {
     "data": {
      "text/plain": [
       "'13740'"
      ]
     },
     "execution_count": 16,
     "metadata": {},
     "output_type": "execute_result"
    }
   ],
   "source": [
    "cenam2"
   ]
  },
  {
   "cell_type": "code",
   "execution_count": 17,
   "metadata": {},
   "outputs": [
    {
     "data": {
      "text/plain": [
       "'4a9em'"
      ]
     },
     "execution_count": 17,
     "metadata": {},
     "output_type": "execute_result"
    }
   ],
   "source": [
    "tmp['data-item-id']"
   ]
  },
  {
   "cell_type": "code",
   "execution_count": 18,
   "metadata": {},
   "outputs": [
    {
     "data": {
      "text/plain": [
       "'https://warsawrealhouse.otodom.pl'"
      ]
     },
     "execution_count": 18,
     "metadata": {},
     "output_type": "execute_result"
    }
   ],
   "source": [
    "url_soup.find(class_=\"css-1hhugco\")['href']"
   ]
  },
  {
   "cell_type": "code",
   "execution_count": 19,
   "metadata": {},
   "outputs": [],
   "source": [
    "pasek = 'css-18h1kfv ev4i3ak3'"
   ]
  },
  {
   "cell_type": "code",
   "execution_count": 20,
   "metadata": {},
   "outputs": [],
   "source": [
    "area = url_soup.find_all(attrs={'class': pasek, 'aria-label': 'Powierzchnia'})[0]"
   ]
  },
  {
   "cell_type": "code",
   "execution_count": 21,
   "metadata": {},
   "outputs": [],
   "source": [
    "detail = url_soup.find_all(attrs={'class': pasek, 'aria-label': 'Materiał budynku'})"
   ]
  },
  {
   "cell_type": "code",
   "execution_count": 22,
   "metadata": {},
   "outputs": [
    {
     "data": {
      "text/plain": [
       "False"
      ]
     },
     "execution_count": 22,
     "metadata": {},
     "output_type": "execute_result"
    }
   ],
   "source": [
    "len(detail)==0"
   ]
  },
  {
   "cell_type": "code",
   "execution_count": 23,
   "metadata": {},
   "outputs": [
    {
     "data": {
      "text/plain": [
       "[<div aria-label=\"Materiał budynku\" class=\"css-18h1kfv ev4i3ak3\" role=\"region\"><div class=\"css-o4i8bk ev4i3ak2\" title=\"Materiał budynku\">Materiał budynku<!-- -->:</div><div class=\"css-1ytkscc ev4i3ak0\" title=\"cegła\">cegła</div></div>]"
      ]
     },
     "execution_count": 23,
     "metadata": {},
     "output_type": "execute_result"
    }
   ],
   "source": [
    "detail"
   ]
  },
  {
   "cell_type": "code",
   "execution_count": 24,
   "metadata": {},
   "outputs": [
    {
     "data": {
      "text/plain": [
       "'39,30'"
      ]
     },
     "execution_count": 24,
     "metadata": {},
     "output_type": "execute_result"
    }
   ],
   "source": [
    "area.find_all(class_=\"css-1ytkscc\")[0].get_text().strip()[:-3]"
   ]
  },
  {
   "cell_type": "code",
   "execution_count": 25,
   "metadata": {},
   "outputs": [],
   "source": [
    "labels = ['Powierzchnia', 'Rynek', 'Piętro', 'Liczba pokoi', 'Materiał budynku',\n",
    "          'Rok budowy', 'Ogrzewanie', 'Stan wykończenia', 'Liczba pięter', 'Rodzaj zabudowy']\n",
    "label_nulls = ['0', 'nieznany', '0', '0', 'nieznany', '2021', 'nieznane', 'nieznany', '0', 'nieznany']"
   ]
  },
  {
   "cell_type": "code",
   "execution_count": 26,
   "metadata": {},
   "outputs": [],
   "source": [
    "import pandas as pd"
   ]
  },
  {
   "cell_type": "code",
   "execution_count": 27,
   "metadata": {},
   "outputs": [],
   "source": [
    "from datetime import date"
   ]
  },
  {
   "cell_type": "code",
   "execution_count": 34,
   "metadata": {},
   "outputs": [
    {
     "data": {
      "text/plain": [
       "'2021-05-29'"
      ]
     },
     "execution_count": 34,
     "metadata": {},
     "output_type": "execute_result"
    }
   ],
   "source": [
    "date.today().strftime(\"%Y-%m-%d\")"
   ]
  },
  {
   "cell_type": "code",
   "execution_count": 29,
   "metadata": {},
   "outputs": [],
   "source": [
    "dodatki = url_soup.find_all(class_='css-1r5xhnu')"
   ]
  },
  {
   "cell_type": "code",
   "execution_count": 30,
   "metadata": {},
   "outputs": [
    {
     "data": {
      "text/plain": [
       "[<li class=\"css-1r5xhnu ex3yvbv1\" data-cy=\"ad.ad-features.categorized-list.item-with-category\">winda</li>,\n",
       " <li class=\"css-1r5xhnu ex3yvbv1\" data-cy=\"ad.ad-features.categorized-list.item-with-category\">oddzielna kuchnia</li>]"
      ]
     },
     "execution_count": 30,
     "metadata": {},
     "output_type": "execute_result"
    }
   ],
   "source": [
    "dodatki"
   ]
  },
  {
   "cell_type": "code",
   "execution_count": 31,
   "metadata": {},
   "outputs": [
    {
     "name": "stdout",
     "output_type": "stream",
     "text": [
      "found!\n",
      "nope\n"
     ]
    }
   ],
   "source": [
    "for d in dodatki:\n",
    "    if d.get_text().strip()==\"winda\":\n",
    "        print(\"found!\")\n",
    "    else:\n",
    "        print(\"nope\")"
   ]
  },
  {
   "cell_type": "code",
   "execution_count": 32,
   "metadata": {},
   "outputs": [
    {
     "name": "stdout",
     "output_type": "stream",
     "text": [
      "9\n"
     ]
    }
   ],
   "source": [
    "from IPython.display import clear_output\n",
    "for i in range(10):\n",
    "    clear_output(wait=True)\n",
    "    print(i)"
   ]
  },
  {
   "cell_type": "code",
   "execution_count": 40,
   "metadata": {
    "scrolled": true
   },
   "outputs": [
    {
     "name": "stdout",
     "output_type": "stream",
     "text": [
      "12000\n"
     ]
    }
   ],
   "source": [
    "data = []\n",
    "number = 0\n",
    "for page in pages_range:\n",
    "    response = requests.get(mieszkania_url + str(page))\n",
    "    soup = BeautifulSoup(response.content, 'html.parser')\n",
    "    mieszkania = soup.find_all(class_=\"offer-item\")\n",
    "    for M in mieszkania[3:]:\n",
    "        oferta_url = M['data-url']\n",
    "        subresponse = requests.get(oferta_url)\n",
    "        oferta = BeautifulSoup(subresponse.content, 'html.parser')\n",
    "        district = oferta.find(class_=\"css-1qz7z11\")\n",
    "        if district is None:\n",
    "            district = \"nieznany\"\n",
    "        else:\n",
    "            district = district.get_text().strip().split(', ')[1]\n",
    "        vendor = oferta.find(class_=\"css-1hhugco\")\n",
    "        if vendor is None:\n",
    "            vendor = \"nieznany\"\n",
    "        else:\n",
    "            vendor = vendor['href']\n",
    "        price = oferta.find(attrs={'aria-label': 'Cena'})\n",
    "        if price is None:\n",
    "            price = '0'\n",
    "        else:\n",
    "            price = price.get_text().strip().replace(' ', '').replace('zł', '')\n",
    "        priceA = oferta.find(attrs={'aria-label': 'Cena za metr kwadratowy'})\n",
    "        if priceA is None:\n",
    "            priceA = '0'\n",
    "        else:\n",
    "            priceA = priceA.get_text().strip().replace(' ', '').replace('zł/m²', '')\n",
    "        originalID = M['data-item-id']\n",
    "        details = ['0 m²', 'nieznany', '0', '0', 'nieznany', '2021', 'nieznane', 'nieznany', '0', 'nieznany']\n",
    "        for x in range(len(details)):\n",
    "            det = oferta.find(attrs={'class': pasek, 'aria-label': labels[x]})\n",
    "            if det is not None:\n",
    "                details[x] = det.find(class_=\"css-1ytkscc\").get_text().strip()\n",
    "        pattern = '\"dateCreated\":\"(\\d{4}-\\d{2}-\\d{2})'\n",
    "        avail = oferta.find(attrs={'class': pasek, 'aria-label': 'Dostępne od'})\n",
    "        if avail is None:\n",
    "            avail = re.search(pattern, url_soup.find(attrs={'type': 'application/json'}).contents[0]).groups()[0]\n",
    "        elevator = \"no\"\n",
    "        dodatki = url_soup.find_all(class_='css-1r5xhnu')\n",
    "        for d in dodatki:\n",
    "            if d.get_text().strip()==\"winda\":\n",
    "                elevator = \"yes\"\n",
    "        snapd = date.today().strftime(\"%Y-%m-%d\")\n",
    "        data.append({\"district\": district, \"vendor\": vendor, \"price\": price, \"pricePerMeter\": priceA,\n",
    "                     \"originalFlatId\": originalID, \"area\": details[0][:-3], \"market\": details[1],\n",
    "                     \"floatFloor\": details[2], \"roomsNumber\": details[3], \"buildingMaterial\": details[4],\n",
    "                     \"constructionYear\": details[5], \"heating\": details[6], \"condition\": details[7],\n",
    "                     \"floorsNumber\": details[8], \"availableDate\": avail, \"typeOfBuilding\": details[9],\n",
    "                     \"elevator\": elevator, \"snapshotDate\": snapd})\n",
    "        number = number+1\n",
    "        clear_output(wait=True)\n",
    "        print(number)\n",
    "\n",
    "data_df = pd.DataFrame(data)"
   ]
  },
  {
   "cell_type": "code",
   "execution_count": 41,
   "metadata": {},
   "outputs": [],
   "source": [
    "data_df.to_csv('flatFacts.csv')"
   ]
  },
  {
   "cell_type": "code",
   "execution_count": 35,
   "metadata": {},
   "outputs": [],
   "source": [
    "pattern = '\"dateCreated\":\"(\\d{4}-\\d{2}-\\d{2})'"
   ]
  },
  {
   "cell_type": "code",
   "execution_count": 36,
   "metadata": {},
   "outputs": [
    {
     "data": {
      "text/plain": [
       "False"
      ]
     },
     "execution_count": 36,
     "metadata": {},
     "output_type": "execute_result"
    }
   ],
   "source": [
    "oferta.find(class_=\"css-1hhugco\") is None"
   ]
  },
  {
   "cell_type": "code",
   "execution_count": 39,
   "metadata": {},
   "outputs": [
    {
     "data": {
      "text/plain": [
       "'2021-02-17'"
      ]
     },
     "execution_count": 39,
     "metadata": {},
     "output_type": "execute_result"
    }
   ],
   "source": [
    "re.search(pattern, url_str).groups()[0]"
   ]
  },
  {
   "cell_type": "code",
   "execution_count": 38,
   "metadata": {},
   "outputs": [],
   "source": [
    "url_str = url_soup.find(attrs={'type': 'application/json'}).contents[0]"
   ]
  },
  {
   "cell_type": "markdown",
   "metadata": {},
   "source": [
    "```\n",
    "\tflatId int IDENTITY(1, 1) PRIMARY KEY,\n",
    "\tdistrictId int NOT NULL foreign key references DistrictDimension(districtId),\n",
    "        DZIELNICA\n",
    "\tvendorId int NOT NULL foreign key references VendorDimension(vendorId),\n",
    "        css-1hhugco\n",
    "\tprice money NOT NULL,\n",
    "        CENA\n",
    "\tpricePerMeter money NOT NULL,\n",
    "        CENAM2\n",
    "\toriginalFlatId int NOT NULL, --\"Nr oferty w Otodom\"\n",
    "        DATA ITEM ID\n",
    "\tarea float NOT NULL,\n",
    "        --> POWIERZCHNIA: (:-3) / css-18h1kfv ev4i3ak3\n",
    "\tmarket varchar(10) NOT NULL,\n",
    "        --> RYNEK WTÓRNY:\n",
    "\tfloatFloor int NOT NULL,\n",
    "        --> PIĘTRO:\n",
    "\troomsNumber int NOT NULL,\n",
    "        --> LICZBA POKOI:\n",
    "\tbuildingMaterial varchar(20) NOT NULL,\n",
    "        --> MATERIAŁ BUDYNKU\n",
    "\tconstructionYear int NOT NULL foreign key references DateDimension(DateID), --wskazuje na styczen tego roku\n",
    "        --> ROK BUDOWY:\n",
    "\theating varchar(20) NOT NULL,\n",
    "        --> OGRZEWANIE:\n",
    "\tcondition varchar(20) NOT NULL, --do wykonczenia/do zamieszkania/do remontu itp.\n",
    "        --> STAN WYKOŃCZENIA:\n",
    "\tfloorsNumber int NOT NULL,\n",
    "        --> LICZBA PIĘTER:\n",
    "\tavailableDate int NOT NULL foreign key references DateDimension(DateID),\n",
    "\ttypeOfBuilding varchar(20) NOT NULL, --apartamentowiec/blok\n",
    "        --> RODZAJ ZABUDOWY:\n",
    "\televator varchar(3) NOT NULL, --yes/no\n",
    "        informacje dodatkowe, * WINDA\n",
    "\tsnapshotDate int NOT NULL foreign key references DateDimension(DateID),\n",
    "```"
   ]
  }
 ],
 "metadata": {
  "kernelspec": {
   "display_name": "Python 3",
   "language": "python",
   "name": "python3"
  },
  "language_info": {
   "codemirror_mode": {
    "name": "ipython",
    "version": 3
   },
   "file_extension": ".py",
   "mimetype": "text/x-python",
   "name": "python",
   "nbconvert_exporter": "python",
   "pygments_lexer": "ipython3",
   "version": "3.7.1"
  }
 },
 "nbformat": 4,
 "nbformat_minor": 4
}
