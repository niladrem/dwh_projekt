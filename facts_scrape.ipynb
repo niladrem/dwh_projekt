{
 "cells": [
  {
   "cell_type": "code",
   "execution_count": 22,
   "metadata": {},
   "outputs": [],
   "source": [
    "from bs4 import BeautifulSoup\n",
    "import requests\n",
    "import re"
   ]
  },
  {
   "cell_type": "code",
   "execution_count": 23,
   "metadata": {},
   "outputs": [],
   "source": [
    "mieszkania_url = \"https://www.otodom.pl/sprzedaz/mieszkanie/warszawa/?search%5Bregion_id%5D=7&search%5Bsubregion_id%5D=197&search%5Bcity_id%5D=26&page=\"\n",
    "pages_range = range(1, 501)"
   ]
  },
  {
   "cell_type": "code",
   "execution_count": 24,
   "metadata": {},
   "outputs": [],
   "source": [
    "response = requests.get(mieszkania_url + \"1\")\n",
    "soup = BeautifulSoup(response.content, 'html.parser')"
   ]
  },
  {
   "cell_type": "code",
   "execution_count": 25,
   "metadata": {},
   "outputs": [],
   "source": [
    "mieszkania = soup.find_all(class_=\"offer-item\")"
   ]
  },
  {
   "cell_type": "code",
   "execution_count": 26,
   "metadata": {
    "scrolled": true
   },
   "outputs": [
    {
     "data": {
      "text/plain": [
       "<article class=\"offer-item ad_id4bLnf\" data-featured-name=\"listing_no_promo\" data-item-id=\"4bLnf\" data-tracking-id=\"61909061\" data-url=\"https://www.otodom.pl/pl/oferta/mieszkanie-44-90-m-warszawa-ID4bLnf.html#8e0a67b43c\" id=\"offer-item-ad_id4bLnf\">\n",
       "<figure class=\"offer-item-image\" data-featured-name=\"no_offer\" data-quick-gallery='[{\"photo\":\"https:\\/\\/ireland.apollo.olxcdn.com\\/v1\\/files\\/eyJmbiI6IjMxdTQybGFzeDA1MDMtQVBMIiwidyI6W3siZm4iOiJqMWozbzEzbTZiZ24xLUFQTCIsInMiOiIxNCIsInAiOiIxMCwtMTAiLCJhIjoiMCJ9XX0.8ya2-hjHL5IQ-nOoSa4EdfDDNj3n8Z-Dil_NQfSH-xw\\/image;s=655x491;q=80\",\"thumb\":\"https:\\/\\/ireland.apollo.olxcdn.com\\/v1\\/files\\/eyJmbiI6IjMxdTQybGFzeDA1MDMtQVBMIiwidyI6W3siZm4iOiJqMWozbzEzbTZiZ24xLUFQTCIsInMiOiIxNCIsInAiOiIxMCwtMTAiLCJhIjoiMCJ9XX0.8ya2-hjHL5IQ-nOoSa4EdfDDNj3n8Z-Dil_NQfSH-xw\\/image;s=184x138;q=80\"},{\"photo\":\"https:\\/\\/ireland.apollo.olxcdn.com\\/v1\\/files\\/eyJmbiI6ImFtNWJ0aDZqemhqNDItQVBMIiwidyI6W3siZm4iOiJqMWozbzEzbTZiZ24xLUFQTCIsInMiOiIxNCIsInAiOiIxMCwtMTAiLCJhIjoiMCJ9XX0.qIpGXORaOxPexwNOM6d5Vqxh4NTXUK4T0nzyciVJysQ\\/image;s=655x491;q=80\",\"thumb\":\"https:\\/\\/ireland.apollo.olxcdn.com\\/v1\\/files\\/eyJmbiI6ImFtNWJ0aDZqemhqNDItQVBMIiwidyI6W3siZm4iOiJqMWozbzEzbTZiZ24xLUFQTCIsInMiOiIxNCIsInAiOiIxMCwtMTAiLCJhIjoiMCJ9XX0.qIpGXORaOxPexwNOM6d5Vqxh4NTXUK4T0nzyciVJysQ\\/image;s=184x138;q=80\"},{\"photo\":\"https:\\/\\/ireland.apollo.olxcdn.com\\/v1\\/files\\/eyJmbiI6Im0xaW42aHQwamd6YTMtQVBMIiwidyI6W3siZm4iOiJqMWozbzEzbTZiZ24xLUFQTCIsInMiOiIxNCIsInAiOiIxMCwtMTAiLCJhIjoiMCJ9XX0.u958SjlnnNLrKiK9Inbink1-SNflnAeSwWE5IwSEkSo\\/image;s=655x491;q=80\",\"thumb\":\"https:\\/\\/ireland.apollo.olxcdn.com\\/v1\\/files\\/eyJmbiI6Im0xaW42aHQwamd6YTMtQVBMIiwidyI6W3siZm4iOiJqMWozbzEzbTZiZ24xLUFQTCIsInMiOiIxNCIsInAiOiIxMCwtMTAiLCJhIjoiMCJ9XX0.u958SjlnnNLrKiK9Inbink1-SNflnAeSwWE5IwSEkSo\\/image;s=184x138;q=80\"},{\"photo\":\"https:\\/\\/ireland.apollo.olxcdn.com\\/v1\\/files\\/eyJmbiI6ImhvaTljbHA1ZzZ6bzMtQVBMIiwidyI6W3siZm4iOiJqMWozbzEzbTZiZ24xLUFQTCIsInMiOiIxNCIsInAiOiIxMCwtMTAiLCJhIjoiMCJ9XX0.5RG0jEYQAIRC-dDDtZAy0yZ9OKaXvjfNeYRRMuNn5YU\\/image;s=655x491;q=80\",\"thumb\":\"https:\\/\\/ireland.apollo.olxcdn.com\\/v1\\/files\\/eyJmbiI6ImhvaTljbHA1ZzZ6bzMtQVBMIiwidyI6W3siZm4iOiJqMWozbzEzbTZiZ24xLUFQTCIsInMiOiIxNCIsInAiOiIxMCwtMTAiLCJhIjoiMCJ9XX0.5RG0jEYQAIRC-dDDtZAy0yZ9OKaXvjfNeYRRMuNn5YU\\/image;s=184x138;q=80\"},{\"photo\":\"https:\\/\\/ireland.apollo.olxcdn.com\\/v1\\/files\\/eyJmbiI6Im95NnVwdmlqMGI3eTEtQVBMIiwidyI6W3siZm4iOiJqMWozbzEzbTZiZ24xLUFQTCIsInMiOiIxNCIsInAiOiIxMCwtMTAiLCJhIjoiMCJ9XX0.PJ-qoRx62Etf8e855gwYqBmFxp-wg8F2cz5Uq0KAp-4\\/image;s=655x491;q=80\",\"thumb\":\"https:\\/\\/ireland.apollo.olxcdn.com\\/v1\\/files\\/eyJmbiI6Im95NnVwdmlqMGI3eTEtQVBMIiwidyI6W3siZm4iOiJqMWozbzEzbTZiZ24xLUFQTCIsInMiOiIxNCIsInAiOiIxMCwtMTAiLCJhIjoiMCJ9XX0.PJ-qoRx62Etf8e855gwYqBmFxp-wg8F2cz5Uq0KAp-4\\/image;s=184x138;q=80\"},{\"photo\":\"https:\\/\\/ireland.apollo.olxcdn.com\\/v1\\/files\\/eyJmbiI6InBjenltbHQ2OHN1OTItQVBMIiwidyI6W3siZm4iOiJqMWozbzEzbTZiZ24xLUFQTCIsInMiOiIxNCIsInAiOiIxMCwtMTAiLCJhIjoiMCJ9XX0.T7ipgBYg-DsnVotS7IV18dlIcBYwqabgmfBziNS0HNU\\/image;s=655x491;q=80\",\"thumb\":\"https:\\/\\/ireland.apollo.olxcdn.com\\/v1\\/files\\/eyJmbiI6InBjenltbHQ2OHN1OTItQVBMIiwidyI6W3siZm4iOiJqMWozbzEzbTZiZ24xLUFQTCIsInMiOiIxNCIsInAiOiIxMCwtMTAiLCJhIjoiMCJ9XX0.T7ipgBYg-DsnVotS7IV18dlIcBYwqabgmfBziNS0HNU\\/image;s=184x138;q=80\"},{\"photo\":\"https:\\/\\/ireland.apollo.olxcdn.com\\/v1\\/files\\/eyJmbiI6IjBsbnJrNzNwY3I0Ny1BUEwiLCJ3IjpbeyJmbiI6ImoxajNvMTNtNmJnbjEtQVBMIiwicyI6IjE0IiwicCI6IjEwLC0xMCIsImEiOiIwIn1dfQ.VM8IprcTCRPDbkaqFt2UKifx-mTo21aPV_FLuhV_PYE\\/image;s=655x491;q=80\",\"thumb\":\"https:\\/\\/ireland.apollo.olxcdn.com\\/v1\\/files\\/eyJmbiI6IjBsbnJrNzNwY3I0Ny1BUEwiLCJ3IjpbeyJmbiI6ImoxajNvMTNtNmJnbjEtQVBMIiwicyI6IjE0IiwicCI6IjEwLC0xMCIsImEiOiIwIn1dfQ.VM8IprcTCRPDbkaqFt2UKifx-mTo21aPV_FLuhV_PYE\\/image;s=184x138;q=80\"},{\"photo\":\"https:\\/\\/ireland.apollo.olxcdn.com\\/v1\\/files\\/eyJmbiI6IjlmNmNzeGZhbmx3bS1BUEwiLCJ3IjpbeyJmbiI6ImoxajNvMTNtNmJnbjEtQVBMIiwicyI6IjE0IiwicCI6IjEwLC0xMCIsImEiOiIwIn1dfQ.63ms-E0v8ga0VGBGFs9JnLBbzTxTM4gqgW5OS_lDBcI\\/image;s=655x491;q=80\",\"thumb\":\"https:\\/\\/ireland.apollo.olxcdn.com\\/v1\\/files\\/eyJmbiI6IjlmNmNzeGZhbmx3bS1BUEwiLCJ3IjpbeyJmbiI6ImoxajNvMTNtNmJnbjEtQVBMIiwicyI6IjE0IiwicCI6IjEwLC0xMCIsImEiOiIwIn1dfQ.63ms-E0v8ga0VGBGFs9JnLBbzTxTM4gqgW5OS_lDBcI\\/image;s=184x138;q=80\"},{\"photo\":\"https:\\/\\/ireland.apollo.olxcdn.com\\/v1\\/files\\/eyJmbiI6ImZrcGVhZjhxZnd4bC1BUEwiLCJ3IjpbeyJmbiI6ImoxajNvMTNtNmJnbjEtQVBMIiwicyI6IjE0IiwicCI6IjEwLC0xMCIsImEiOiIwIn1dfQ.c37mNTaeeds_VIuRQDCb9OvxJ5jS5zX0kYLePQjLmqU\\/image;s=655x491;q=80\",\"thumb\":\"https:\\/\\/ireland.apollo.olxcdn.com\\/v1\\/files\\/eyJmbiI6ImZrcGVhZjhxZnd4bC1BUEwiLCJ3IjpbeyJmbiI6ImoxajNvMTNtNmJnbjEtQVBMIiwicyI6IjE0IiwicCI6IjEwLC0xMCIsImEiOiIwIn1dfQ.c37mNTaeeds_VIuRQDCb9OvxJ5jS5zX0kYLePQjLmqU\\/image;s=184x138;q=80\"},{\"photo\":\"https:\\/\\/ireland.apollo.olxcdn.com\\/v1\\/files\\/eyJmbiI6ImJ1OXZubjl4a3A1MDItQVBMIiwidyI6W3siZm4iOiJqMWozbzEzbTZiZ24xLUFQTCIsInMiOiIxNCIsInAiOiIxMCwtMTAiLCJhIjoiMCJ9XX0.jk9OLSGd1US-XNFeGnj6o_vrGPMYc8B4ot3-BZ_QHc0\\/image;s=655x491;q=80\",\"thumb\":\"https:\\/\\/ireland.apollo.olxcdn.com\\/v1\\/files\\/eyJmbiI6ImJ1OXZubjl4a3A1MDItQVBMIiwidyI6W3siZm4iOiJqMWozbzEzbTZiZ24xLUFQTCIsInMiOiIxNCIsInAiOiIxMCwtMTAiLCJhIjoiMCJ9XX0.jk9OLSGd1US-XNFeGnj6o_vrGPMYc8B4ot3-BZ_QHc0\\/image;s=184x138;q=80\"}]'>\n",
       "<a data-featured-name=\"listing_no_promo\" data-tracking=\"click_body\" data-tracking-data='{\"touch_point_button\":\"photo\"}' href=\"https://www.otodom.pl/pl/oferta/mieszkanie-44-90-m-warszawa-ID4bLnf.html#8e0a67b43c\">\n",
       "<span class=\"img-cover lazy\" data-src=\"https://ireland.apollo.olxcdn.com/v1/files/eyJmbiI6IjMxdTQybGFzeDA1MDMtQVBMIiwidyI6W3siZm4iOiJqMWozbzEzbTZiZ24xLUFQTCIsInMiOiIxNCIsInAiOiIxMCwtMTAiLCJhIjoiMCJ9XX0.8ya2-hjHL5IQ-nOoSa4EdfDDNj3n8Z-Dil_NQfSH-xw/image;s=655x491;q=80\" title=\"Mieszkanie na sprzedaż o powierzchni 44,90 m² - Warszawa, Wola - zdjęcie 1\"></span>\n",
       "<span class=\"promoted-label\" data-label=\"Tylko w Otodom\"></span>\n",
       "<div class=\"virtual-tours\">\n",
       "<ul>\n",
       "</ul>\n",
       "</div>\n",
       "</a>\n",
       "<div class=\"developer-offer-title\">Oferta dewelopera</div>\n",
       "</figure>\n",
       "<div class=\"offer-item-details\">\n",
       "<header class=\"offer-item-header\">\n",
       "<h3>\n",
       "<a data-featured-name=\"listing_no_promo\" data-tracking=\"click_body\" data-tracking-data='{\"touch_point_button\":\"title\"}' href=\"https://www.otodom.pl/pl/oferta/mieszkanie-44-90-m-warszawa-ID4bLnf.html#8e0a67b43c\">\n",
       "<strong class=\"visible-xs-block\">44,90 m²</strong>\n",
       "<span class=\"text-nowrap\">\n",
       "<span class=\"offer-item-title\">Mieszkanie, 44,90 m², Warszawa</span>\n",
       "</span>\n",
       "</a>\n",
       "</h3>\n",
       "<p class=\"text-nowrap\"><span class=\"hidden-xs\">Mieszkanie na sprzedaż: </span>Warszawa, Wola</p>\n",
       "<div class=\"vas-list-no-offer\">\n",
       "<a class=\"button-observed observe-link favourites-button observed-text\" data-id=\"61909061\" data-statkey=\"ad.observed.list\" href=\"#\" rel=\"nofollow\">\n",
       "<div class=\"observed-text-container\">\n",
       "<span class=\"icon observed-61909061\"></span>\n",
       "<i class=\"icon-heart-filled\"></i>\n",
       "<div class=\"observed-label\"></div>\n",
       "</div>\n",
       "</a>\n",
       "</div>\n",
       "</header>\n",
       "<ul class=\"params\" data-tracking=\"click_body\" data-tracking-data='{\"touch_point_button\":\"body\"}'>\n",
       "<li class=\"offer-item-rooms hidden-xs\">2 pokoje</li>\n",
       "<li class=\"offer-item-price\">\n",
       "                                                                                    468 000 zł                                                                                                                                </li>\n",
       "<li class=\"hidden-xs offer-item-area\">44,90 m²</li>\n",
       "<li class=\"hidden-xs offer-item-price-per-m\">10 423 zł/m²</li>\n",
       "</ul>\n",
       "</div>\n",
       "<div class=\"offer-item-details-bottom\" data-tracking=\"click_body\" data-tracking-data='{\"touch_point_button\":\"body\"}'>\n",
       "<ul class=\"params-small clearfix hidden-xs\">\n",
       "<li class=\"pull-right\">\n",
       "                                                                                                        ŁADNA WILLA Nieruchomości                                                                                        </li>\n",
       "</ul>\n",
       "</div>\n",
       "<div class=\"offer-item-observe-button vas-list-no-offer\">\n",
       "<a class=\"button-observed observe-link favourites-button\" data-id=\"61909061\" data-statkey=\"ad.observed.list\" href=\"#\" rel=\"nofollow\">\n",
       "<span class=\"icon observed-61909061\"></span>\n",
       "<svg height=\"100%\" version=\"1.1\" viewbox=\"0 0 52 47\" width=\"100%\" xmlns=\"http://www.w3.org/2000/svg\" xmlns:xlink=\"http://www.w3.org/1999/xlink\">\n",
       "<g fill-rule=\"evenodd\" id=\"14_SubAccounts\" stroke=\"none\" stroke-width=\"1\">\n",
       "<g fill-rule=\"nonzero\" id=\"#-styleguide\" transform=\"translate(-290.000000, -3431.000000)\">\n",
       "<g id=\"heart-regular\" transform=\"translate(290.000000, 3417.000000)\">\n",
       "<g id=\"Group-7\" transform=\"translate(0.000000, 14.000000)\">\n",
       "<g id=\"Group-6\">\n",
       "<path d=\"M44.9749792,5.0327098 C39.5562332,0.472655041 31.1843643,1.15760154 25.9999932,6.44013411 C20.815622,1.15760154 12.4437532,0.463272213 7.0250072,5.0327098 C-0.0249875872,10.9720404 1.00626165,20.6551196 6.03125794,25.7875269 L22.4749958,42.5546419 C23.4124951,43.5116904 24.6687442,44.0465116 25.9999932,44.0465116 C27.3406172,44.0465116 28.5874913,43.5210732 29.5249906,42.5640247 L45.9687284,25.7969098 C50.9843497,20.6645025 52.0343489,10.9814232 44.9749792,5.0327098 Z\" id=\"Path\"></path>\n",
       "<path d=\"M46.2718892,3.50241459 C53.7431472,9.79821295 53.7229457,20.7330078 47.4057954,27.197245 L30.9628717,43.9635293 C29.6487574,45.3050462 27.8867501,46.04647 26.009144,46.04647 C24.1408152,46.04647 22.3695113,45.2956437 21.0562304,43.9549771 L4.61132027,27.1866659 C-1.70790147,20.7323686 -1.72137807,9.79370898 5.74484956,3.50371964 C11.4787764,-1.33149882 20.0613911,-1.07727526 26.0092656,3.74139162 C31.9542156,-1.07326776 40.5355381,-1.32491546 46.2718892,3.50241459 Z M27.4365577,7.8409816 L26.009144,9.29542206 L24.5817303,7.8409816 C20.0856339,3.25975559 12.8944426,2.70707366 8.32274593,6.56222409 C2.70796719,11.2924442 2.7181226,19.5353679 7.46832495,24.3871085 L23.9128769,41.155054 C24.4776636,41.731618 25.2204435,42.04647 26.009144,42.04647 C26.8109459,42.04647 27.5432365,41.7383341 28.1062252,41.1636062 L44.5474853,24.3990223 C49.2979771,19.5379178 49.3133455,11.2966718 43.6958622,6.56249388 C39.1208731,2.7129779 31.9290821,3.26339526 27.4365577,7.8409816 Z\" fill=\"#FFFFFF\" id=\"Path\"></path>\n",
       "</g>\n",
       "</g>\n",
       "</g>\n",
       "</g>\n",
       "</g>\n",
       "</svg>\n",
       "</a>\n",
       "</div>\n",
       "</article>"
      ]
     },
     "execution_count": 26,
     "metadata": {},
     "output_type": "execute_result"
    }
   ],
   "source": [
    "tmp = mieszkania[3]\n",
    "tmp"
   ]
  },
  {
   "cell_type": "code",
   "execution_count": 27,
   "metadata": {},
   "outputs": [
    {
     "data": {
      "text/plain": [
       "'https://www.otodom.pl/pl/oferta/mieszkanie-44-90-m-warszawa-ID4bLnf.html#8e0a67b43c'"
      ]
     },
     "execution_count": 27,
     "metadata": {},
     "output_type": "execute_result"
    }
   ],
   "source": [
    "tmp['data-url']"
   ]
  },
  {
   "cell_type": "code",
   "execution_count": 28,
   "metadata": {},
   "outputs": [
    {
     "name": "stdout",
     "output_type": "stream",
     "text": [
      "Mieszkanie, 44,90 m², Warszawa\n",
      "https://www.otodom.pl/pl/oferta/mieszkanie-44-90-m-warszawa-ID4bLnf.html#8e0a67b43c\n",
      "[<div class=\"css-1d9dws4 egzohkh2\"><style data-emotion=\"css 18h1kfv\">.css-18h1kfv{display:grid;grid-column-gap:6px;grid-template-areas:'title desc';grid-template-columns:min-content 1fr;-webkit-flex:1 1 50%;-ms-flex:1 1 50%;flex:1 1 50%;min-height:25px;color:#424242;font-size:15px;}@media (min-width: 991px){.css-18h1kfv{-webkit-flex:1 1 33%;-ms-flex:1 1 33%;flex:1 1 33%;max-width:33%;}}</style><div aria-label=\"Powierzchnia\" class=\"css-18h1kfv ev4i3ak3\" role=\"region\"><style data-emotion=\"css o4i8bk\">.css-o4i8bk{overflow:hidden;font-weight:400;text-overflow:ellipsis;white-space:nowrap;}</style><div class=\"css-o4i8bk ev4i3ak2\" title=\"Powierzchnia\">Powierzchnia<!-- -->:</div><style data-emotion=\"css 1ytkscc\">.css-1ytkscc{grid-area:desc;overflow:initial;font-weight:700;text-overflow:initial;white-space:initial;}</style><div class=\"css-1ytkscc ev4i3ak0\" title=\"44,90 m²\">44,90 m²</div></div><div aria-label=\"Liczba pokoi\" class=\"css-18h1kfv ev4i3ak3\" role=\"region\"><div class=\"css-o4i8bk ev4i3ak2\" title=\"Liczba pokoi\">Liczba pokoi<!-- -->:</div><div class=\"css-1ytkscc ev4i3ak0\" title=\"2\">2</div></div><div aria-label=\"Rynek\" class=\"css-18h1kfv ev4i3ak3\" role=\"region\"><div class=\"css-o4i8bk ev4i3ak2\" title=\"Rynek\">Rynek<!-- -->:</div><div class=\"css-1ytkscc ev4i3ak0\" title=\"wtórny\">wtórny</div></div><div aria-label=\"Rodzaj zabudowy\" class=\"css-18h1kfv ev4i3ak3\" role=\"region\"><div class=\"css-o4i8bk ev4i3ak2\" title=\"Rodzaj zabudowy\">Rodzaj zabudowy<!-- -->:</div><div class=\"css-1ytkscc ev4i3ak0\" title=\"blok\">blok</div></div><div aria-label=\"Piętro\" class=\"css-18h1kfv ev4i3ak3\" role=\"region\"><div class=\"css-o4i8bk ev4i3ak2\" title=\"Piętro\">Piętro<!-- -->:</div><div class=\"css-1ytkscc ev4i3ak0\" title=\"1\">1</div></div><div aria-label=\"Liczba pięter\" class=\"css-18h1kfv ev4i3ak3\" role=\"region\"><div class=\"css-o4i8bk ev4i3ak2\" title=\"Liczba pięter\">Liczba pięter<!-- -->:</div><div class=\"css-1ytkscc ev4i3ak0\" title=\"3\">3</div></div><div aria-label=\"Materiał budynku\" class=\"css-18h1kfv ev4i3ak3\" role=\"region\"><div class=\"css-o4i8bk ev4i3ak2\" title=\"Materiał budynku\">Materiał budynku<!-- -->:</div><div class=\"css-1ytkscc ev4i3ak0\" title=\"cegła\">cegła</div></div><div aria-label=\"Okna\" class=\"css-18h1kfv ev4i3ak3\" role=\"region\"><div class=\"css-o4i8bk ev4i3ak2\" title=\"Okna\">Okna<!-- -->:</div><div class=\"css-1ytkscc ev4i3ak0\" title=\"plastikowe\">plastikowe</div></div><div aria-label=\"Ogrzewanie\" class=\"css-18h1kfv ev4i3ak3\" role=\"region\"><div class=\"css-o4i8bk ev4i3ak2\" title=\"Ogrzewanie\">Ogrzewanie<!-- -->:</div><div class=\"css-1ytkscc ev4i3ak0\" title=\"miejskie\">miejskie</div></div><div aria-label=\"Rok budowy\" class=\"css-18h1kfv ev4i3ak3\" role=\"region\"><div class=\"css-o4i8bk ev4i3ak2\" title=\"Rok budowy\">Rok budowy<!-- -->:</div><div class=\"css-1ytkscc ev4i3ak0\" title=\"1957\">1957</div></div><div aria-label=\"Czynsz\" class=\"css-18h1kfv ev4i3ak3\" role=\"region\"><div class=\"css-o4i8bk ev4i3ak2\" title=\"Czynsz\">Czynsz<!-- -->:</div><div class=\"css-1ytkscc ev4i3ak0\" title=\"560 zł\">560 zł</div></div><div aria-label=\"Forma własności\" class=\"css-18h1kfv ev4i3ak3\" role=\"region\"><div class=\"css-o4i8bk ev4i3ak2\" title=\"Forma własności\">Forma własności<!-- -->:</div><div class=\"css-1ytkscc ev4i3ak0\" title=\"pełna własność\">pełna własność</div></div></div>]\n"
     ]
    }
   ],
   "source": [
    "name = tmp.find(class_=\"offer-item-title\").get_text().strip()\n",
    "print(name)\n",
    "'''since = tmp.find(class_=\"offer-item-since\").get_text().strip()\n",
    "print(since)\n",
    "ulica, numer = tmp.find(class_=\"offer-item-address\").contents[0].split(\" \", 1)\n",
    "print(ulica)\n",
    "print(numer)\n",
    "part1, wojewodztwo = tmp.find(class_=\"offer-item-address\").contents[2].split(\",\")\n",
    "wojewodztwo = wojewodztwo.strip()\n",
    "kod, miasto = part1.replace(\",\", \"\").split(\" \", 1)\n",
    "print(wojewodztwo)\n",
    "print(miasto)\n",
    "print(kod)'''\n",
    "#url = tmp.find(class_=\"offer-item-title\").a[\"href\"]\n",
    "url = tmp[\"data-url\"]\n",
    "print(url)\n",
    "url_tmp = requests.get(url)\n",
    "url_soup = BeautifulSoup(url_tmp.content, 'html.parser')\n",
    "#about = url_soup.find(class_=\"shop-about\").p.get_text()\n",
    "#print(about)\n",
    "#info_re = re.compile(\"sprzedaż: ([\\d ]+)\")# .*wynajem: ([\\d ]+).*\n",
    "#info_tmp = tmp.find(class_=\"css-1d9dws4\").get_text().strip()\n",
    "info_tmp = url_soup.find_all(class_=\"css-1d9dws4\")\n",
    "print(info_tmp)\n",
    "#m = info_re.match(info_tmp)\n",
    "#m.groups()"
   ]
  },
  {
   "cell_type": "code",
   "execution_count": 29,
   "metadata": {},
   "outputs": [
    {
     "data": {
      "text/plain": [
       "<div class=\"css-1d9dws4 egzohkh2\"><style data-emotion=\"css 18h1kfv\">.css-18h1kfv{display:grid;grid-column-gap:6px;grid-template-areas:'title desc';grid-template-columns:min-content 1fr;-webkit-flex:1 1 50%;-ms-flex:1 1 50%;flex:1 1 50%;min-height:25px;color:#424242;font-size:15px;}@media (min-width: 991px){.css-18h1kfv{-webkit-flex:1 1 33%;-ms-flex:1 1 33%;flex:1 1 33%;max-width:33%;}}</style><div aria-label=\"Powierzchnia\" class=\"css-18h1kfv ev4i3ak3\" role=\"region\"><style data-emotion=\"css o4i8bk\">.css-o4i8bk{overflow:hidden;font-weight:400;text-overflow:ellipsis;white-space:nowrap;}</style><div class=\"css-o4i8bk ev4i3ak2\" title=\"Powierzchnia\">Powierzchnia<!-- -->:</div><style data-emotion=\"css 1ytkscc\">.css-1ytkscc{grid-area:desc;overflow:initial;font-weight:700;text-overflow:initial;white-space:initial;}</style><div class=\"css-1ytkscc ev4i3ak0\" title=\"44,90 m²\">44,90 m²</div></div><div aria-label=\"Liczba pokoi\" class=\"css-18h1kfv ev4i3ak3\" role=\"region\"><div class=\"css-o4i8bk ev4i3ak2\" title=\"Liczba pokoi\">Liczba pokoi<!-- -->:</div><div class=\"css-1ytkscc ev4i3ak0\" title=\"2\">2</div></div><div aria-label=\"Rynek\" class=\"css-18h1kfv ev4i3ak3\" role=\"region\"><div class=\"css-o4i8bk ev4i3ak2\" title=\"Rynek\">Rynek<!-- -->:</div><div class=\"css-1ytkscc ev4i3ak0\" title=\"wtórny\">wtórny</div></div><div aria-label=\"Rodzaj zabudowy\" class=\"css-18h1kfv ev4i3ak3\" role=\"region\"><div class=\"css-o4i8bk ev4i3ak2\" title=\"Rodzaj zabudowy\">Rodzaj zabudowy<!-- -->:</div><div class=\"css-1ytkscc ev4i3ak0\" title=\"blok\">blok</div></div><div aria-label=\"Piętro\" class=\"css-18h1kfv ev4i3ak3\" role=\"region\"><div class=\"css-o4i8bk ev4i3ak2\" title=\"Piętro\">Piętro<!-- -->:</div><div class=\"css-1ytkscc ev4i3ak0\" title=\"1\">1</div></div><div aria-label=\"Liczba pięter\" class=\"css-18h1kfv ev4i3ak3\" role=\"region\"><div class=\"css-o4i8bk ev4i3ak2\" title=\"Liczba pięter\">Liczba pięter<!-- -->:</div><div class=\"css-1ytkscc ev4i3ak0\" title=\"3\">3</div></div><div aria-label=\"Materiał budynku\" class=\"css-18h1kfv ev4i3ak3\" role=\"region\"><div class=\"css-o4i8bk ev4i3ak2\" title=\"Materiał budynku\">Materiał budynku<!-- -->:</div><div class=\"css-1ytkscc ev4i3ak0\" title=\"cegła\">cegła</div></div><div aria-label=\"Okna\" class=\"css-18h1kfv ev4i3ak3\" role=\"region\"><div class=\"css-o4i8bk ev4i3ak2\" title=\"Okna\">Okna<!-- -->:</div><div class=\"css-1ytkscc ev4i3ak0\" title=\"plastikowe\">plastikowe</div></div><div aria-label=\"Ogrzewanie\" class=\"css-18h1kfv ev4i3ak3\" role=\"region\"><div class=\"css-o4i8bk ev4i3ak2\" title=\"Ogrzewanie\">Ogrzewanie<!-- -->:</div><div class=\"css-1ytkscc ev4i3ak0\" title=\"miejskie\">miejskie</div></div><div aria-label=\"Rok budowy\" class=\"css-18h1kfv ev4i3ak3\" role=\"region\"><div class=\"css-o4i8bk ev4i3ak2\" title=\"Rok budowy\">Rok budowy<!-- -->:</div><div class=\"css-1ytkscc ev4i3ak0\" title=\"1957\">1957</div></div><div aria-label=\"Czynsz\" class=\"css-18h1kfv ev4i3ak3\" role=\"region\"><div class=\"css-o4i8bk ev4i3ak2\" title=\"Czynsz\">Czynsz<!-- -->:</div><div class=\"css-1ytkscc ev4i3ak0\" title=\"560 zł\">560 zł</div></div><div aria-label=\"Forma własności\" class=\"css-18h1kfv ev4i3ak3\" role=\"region\"><div class=\"css-o4i8bk ev4i3ak2\" title=\"Forma własności\">Forma własności<!-- -->:</div><div class=\"css-1ytkscc ev4i3ak0\" title=\"pełna własność\">pełna własność</div></div></div>"
      ]
     },
     "execution_count": 29,
     "metadata": {},
     "output_type": "execute_result"
    }
   ],
   "source": [
    "info_tmp[0]"
   ]
  },
  {
   "cell_type": "code",
   "execution_count": 30,
   "metadata": {},
   "outputs": [
    {
     "data": {
      "text/plain": [
       "[<div aria-label=\"Powierzchnia\" class=\"css-18h1kfv ev4i3ak3\" role=\"region\"><style data-emotion=\"css o4i8bk\">.css-o4i8bk{overflow:hidden;font-weight:400;text-overflow:ellipsis;white-space:nowrap;}</style><div class=\"css-o4i8bk ev4i3ak2\" title=\"Powierzchnia\">Powierzchnia<!-- -->:</div><style data-emotion=\"css 1ytkscc\">.css-1ytkscc{grid-area:desc;overflow:initial;font-weight:700;text-overflow:initial;white-space:initial;}</style><div class=\"css-1ytkscc ev4i3ak0\" title=\"44,90 m²\">44,90 m²</div></div>,\n",
       " <div aria-label=\"Liczba pokoi\" class=\"css-18h1kfv ev4i3ak3\" role=\"region\"><div class=\"css-o4i8bk ev4i3ak2\" title=\"Liczba pokoi\">Liczba pokoi<!-- -->:</div><div class=\"css-1ytkscc ev4i3ak0\" title=\"2\">2</div></div>,\n",
       " <div aria-label=\"Rynek\" class=\"css-18h1kfv ev4i3ak3\" role=\"region\"><div class=\"css-o4i8bk ev4i3ak2\" title=\"Rynek\">Rynek<!-- -->:</div><div class=\"css-1ytkscc ev4i3ak0\" title=\"wtórny\">wtórny</div></div>,\n",
       " <div aria-label=\"Rodzaj zabudowy\" class=\"css-18h1kfv ev4i3ak3\" role=\"region\"><div class=\"css-o4i8bk ev4i3ak2\" title=\"Rodzaj zabudowy\">Rodzaj zabudowy<!-- -->:</div><div class=\"css-1ytkscc ev4i3ak0\" title=\"blok\">blok</div></div>,\n",
       " <div aria-label=\"Piętro\" class=\"css-18h1kfv ev4i3ak3\" role=\"region\"><div class=\"css-o4i8bk ev4i3ak2\" title=\"Piętro\">Piętro<!-- -->:</div><div class=\"css-1ytkscc ev4i3ak0\" title=\"1\">1</div></div>,\n",
       " <div aria-label=\"Liczba pięter\" class=\"css-18h1kfv ev4i3ak3\" role=\"region\"><div class=\"css-o4i8bk ev4i3ak2\" title=\"Liczba pięter\">Liczba pięter<!-- -->:</div><div class=\"css-1ytkscc ev4i3ak0\" title=\"3\">3</div></div>,\n",
       " <div aria-label=\"Materiał budynku\" class=\"css-18h1kfv ev4i3ak3\" role=\"region\"><div class=\"css-o4i8bk ev4i3ak2\" title=\"Materiał budynku\">Materiał budynku<!-- -->:</div><div class=\"css-1ytkscc ev4i3ak0\" title=\"cegła\">cegła</div></div>,\n",
       " <div aria-label=\"Okna\" class=\"css-18h1kfv ev4i3ak3\" role=\"region\"><div class=\"css-o4i8bk ev4i3ak2\" title=\"Okna\">Okna<!-- -->:</div><div class=\"css-1ytkscc ev4i3ak0\" title=\"plastikowe\">plastikowe</div></div>,\n",
       " <div aria-label=\"Ogrzewanie\" class=\"css-18h1kfv ev4i3ak3\" role=\"region\"><div class=\"css-o4i8bk ev4i3ak2\" title=\"Ogrzewanie\">Ogrzewanie<!-- -->:</div><div class=\"css-1ytkscc ev4i3ak0\" title=\"miejskie\">miejskie</div></div>,\n",
       " <div aria-label=\"Rok budowy\" class=\"css-18h1kfv ev4i3ak3\" role=\"region\"><div class=\"css-o4i8bk ev4i3ak2\" title=\"Rok budowy\">Rok budowy<!-- -->:</div><div class=\"css-1ytkscc ev4i3ak0\" title=\"1957\">1957</div></div>,\n",
       " <div aria-label=\"Czynsz\" class=\"css-18h1kfv ev4i3ak3\" role=\"region\"><div class=\"css-o4i8bk ev4i3ak2\" title=\"Czynsz\">Czynsz<!-- -->:</div><div class=\"css-1ytkscc ev4i3ak0\" title=\"560 zł\">560 zł</div></div>,\n",
       " <div aria-label=\"Forma własności\" class=\"css-18h1kfv ev4i3ak3\" role=\"region\"><div class=\"css-o4i8bk ev4i3ak2\" title=\"Forma własności\">Forma własności<!-- -->:</div><div class=\"css-1ytkscc ev4i3ak0\" title=\"pełna własność\">pełna własność</div></div>]"
      ]
     },
     "execution_count": 30,
     "metadata": {},
     "output_type": "execute_result"
    }
   ],
   "source": [
    "info_tmp[0].find_all(class_=\"css-18h1kfv\")"
   ]
  },
  {
   "cell_type": "code",
   "execution_count": 31,
   "metadata": {},
   "outputs": [],
   "source": [
    "adres = url_soup.find(class_=\"css-1qz7z11\").get_text().strip()"
   ]
  },
  {
   "cell_type": "code",
   "execution_count": 32,
   "metadata": {},
   "outputs": [
    {
     "data": {
      "text/plain": [
       "['Warszawa', 'Wola', 'Górczewska']"
      ]
     },
     "execution_count": 32,
     "metadata": {},
     "output_type": "execute_result"
    }
   ],
   "source": [
    "adres.split(', ')"
   ]
  },
  {
   "cell_type": "code",
   "execution_count": 33,
   "metadata": {},
   "outputs": [
    {
     "data": {
      "text/plain": [
       "'Wola'"
      ]
     },
     "execution_count": 33,
     "metadata": {},
     "output_type": "execute_result"
    }
   ],
   "source": [
    "dzielnica = adres.split(', ')[1]\n",
    "dzielnica"
   ]
  },
  {
   "cell_type": "code",
   "execution_count": 34,
   "metadata": {},
   "outputs": [],
   "source": [
    "cena = url_soup.find_all(attrs={'aria-label': 'Cena'})[0].get_text().strip().replace(' ', '').replace('zł', '')"
   ]
  },
  {
   "cell_type": "code",
   "execution_count": 35,
   "metadata": {},
   "outputs": [
    {
     "data": {
      "text/plain": [
       "'468000'"
      ]
     },
     "execution_count": 35,
     "metadata": {},
     "output_type": "execute_result"
    }
   ],
   "source": [
    "cena"
   ]
  },
  {
   "cell_type": "code",
   "execution_count": 36,
   "metadata": {},
   "outputs": [],
   "source": [
    "cenam2 = url_soup.find_all(attrs={'aria-label': 'Cena za metr kwadratowy'})[0].get_text().strip().replace(' ', '').replace('zł/m²', '')"
   ]
  },
  {
   "cell_type": "code",
   "execution_count": 37,
   "metadata": {},
   "outputs": [
    {
     "data": {
      "text/plain": [
       "'10423'"
      ]
     },
     "execution_count": 37,
     "metadata": {},
     "output_type": "execute_result"
    }
   ],
   "source": [
    "cenam2"
   ]
  },
  {
   "cell_type": "code",
   "execution_count": 38,
   "metadata": {},
   "outputs": [
    {
     "data": {
      "text/plain": [
       "'4bLnf'"
      ]
     },
     "execution_count": 38,
     "metadata": {},
     "output_type": "execute_result"
    }
   ],
   "source": [
    "tmp['data-item-id']"
   ]
  },
  {
   "cell_type": "code",
   "execution_count": 39,
   "metadata": {},
   "outputs": [
    {
     "data": {
      "text/plain": [
       "'https://www.otodom.pl/shop/ladna-willa-nieruchomosci-IDqQeB/'"
      ]
     },
     "execution_count": 39,
     "metadata": {},
     "output_type": "execute_result"
    }
   ],
   "source": [
    "url_soup.find(class_=\"css-1hhugco\")['href']"
   ]
  },
  {
   "cell_type": "code",
   "execution_count": 40,
   "metadata": {},
   "outputs": [],
   "source": [
    "pasek = 'css-18h1kfv ev4i3ak3'"
   ]
  },
  {
   "cell_type": "code",
   "execution_count": 41,
   "metadata": {},
   "outputs": [],
   "source": [
    "area = url_soup.find_all(attrs={'class': pasek, 'aria-label': 'Powierzchnia'})[0]"
   ]
  },
  {
   "cell_type": "code",
   "execution_count": 42,
   "metadata": {},
   "outputs": [],
   "source": [
    "detail = url_soup.find_all(attrs={'class': pasek, 'aria-label': 'Materiał budynku'})"
   ]
  },
  {
   "cell_type": "code",
   "execution_count": 43,
   "metadata": {},
   "outputs": [
    {
     "data": {
      "text/plain": [
       "False"
      ]
     },
     "execution_count": 43,
     "metadata": {},
     "output_type": "execute_result"
    }
   ],
   "source": [
    "len(detail)==0"
   ]
  },
  {
   "cell_type": "code",
   "execution_count": 44,
   "metadata": {},
   "outputs": [
    {
     "data": {
      "text/plain": [
       "[<div aria-label=\"Materiał budynku\" class=\"css-18h1kfv ev4i3ak3\" role=\"region\"><div class=\"css-o4i8bk ev4i3ak2\" title=\"Materiał budynku\">Materiał budynku<!-- -->:</div><div class=\"css-1ytkscc ev4i3ak0\" title=\"cegła\">cegła</div></div>]"
      ]
     },
     "execution_count": 44,
     "metadata": {},
     "output_type": "execute_result"
    }
   ],
   "source": [
    "detail"
   ]
  },
  {
   "cell_type": "code",
   "execution_count": 45,
   "metadata": {},
   "outputs": [
    {
     "data": {
      "text/plain": [
       "'44,90'"
      ]
     },
     "execution_count": 45,
     "metadata": {},
     "output_type": "execute_result"
    }
   ],
   "source": [
    "area.find_all(class_=\"css-1ytkscc\")[0].get_text().strip()[:-3]"
   ]
  },
  {
   "cell_type": "code",
   "execution_count": 46,
   "metadata": {},
   "outputs": [],
   "source": [
    "labels = ['Powierzchnia', 'Rynek', 'Piętro', 'Liczba pokoi', 'Materiał budynku',\n",
    "          'Rok budowy', 'Ogrzewanie', 'Stan wykończenia', 'Liczba pięter', 'Rodzaj zabudowy']\n",
    "label_nulls = ['0', 'nieznany', '0', '0', 'nieznany', '2021', 'nieznane', 'nieznany', '0', 'nieznany']"
   ]
  },
  {
   "cell_type": "code",
   "execution_count": 26,
   "metadata": {},
   "outputs": [],
   "source": [
    "import pandas as pd"
   ]
  },
  {
   "cell_type": "code",
   "execution_count": 47,
   "metadata": {},
   "outputs": [],
   "source": [
    "from datetime import date"
   ]
  },
  {
   "cell_type": "code",
   "execution_count": 48,
   "metadata": {},
   "outputs": [
    {
     "data": {
      "text/plain": [
       "'2021-05-30'"
      ]
     },
     "execution_count": 48,
     "metadata": {},
     "output_type": "execute_result"
    }
   ],
   "source": [
    "date.today().strftime(\"%Y-%m-%d\")"
   ]
  },
  {
   "cell_type": "code",
   "execution_count": 49,
   "metadata": {},
   "outputs": [],
   "source": [
    "dodatki = url_soup.find_all(class_='css-1r5xhnu')"
   ]
  },
  {
   "cell_type": "code",
   "execution_count": 50,
   "metadata": {},
   "outputs": [
    {
     "data": {
      "text/plain": [
       "[<li class=\"css-1r5xhnu ex3yvbv1\" data-cy=\"ad.ad-features.categorized-list.item-with-category\">telewizja kablowa</li>,\n",
       " <li class=\"css-1r5xhnu ex3yvbv1\" data-cy=\"ad.ad-features.categorized-list.item-with-category\">domofon / wideofon</li>,\n",
       " <li class=\"css-1r5xhnu ex3yvbv1\" data-cy=\"ad.ad-features.categorized-list.item-with-category\">piwnica</li>]"
      ]
     },
     "execution_count": 50,
     "metadata": {},
     "output_type": "execute_result"
    }
   ],
   "source": [
    "dodatki"
   ]
  },
  {
   "cell_type": "code",
   "execution_count": 51,
   "metadata": {},
   "outputs": [
    {
     "name": "stdout",
     "output_type": "stream",
     "text": [
      "nope\n",
      "nope\n",
      "nope\n"
     ]
    }
   ],
   "source": [
    "for d in dodatki:\n",
    "    if d.get_text().strip()==\"winda\":\n",
    "        print(\"found!\")\n",
    "    else:\n",
    "        print(\"nope\")"
   ]
  },
  {
   "cell_type": "code",
   "execution_count": 52,
   "metadata": {},
   "outputs": [
    {
     "name": "stdout",
     "output_type": "stream",
     "text": [
      "9\n"
     ]
    }
   ],
   "source": [
    "from IPython.display import clear_output\n",
    "for i in range(10):\n",
    "    clear_output(wait=True)\n",
    "    print(i)"
   ]
  },
  {
   "cell_type": "code",
   "execution_count": 63,
   "metadata": {
    "scrolled": true
   },
   "outputs": [
    {
     "name": "stdout",
     "output_type": "stream",
     "text": [
      "10068\n"
     ]
    },
    {
     "ename": "AttributeError",
     "evalue": "'NoneType' object has no attribute 'contents'",
     "output_type": "error",
     "traceback": [
      "\u001b[1;31m---------------------------------------------------------------------------\u001b[0m",
      "\u001b[1;31mAttributeError\u001b[0m                            Traceback (most recent call last)",
      "\u001b[1;32m<ipython-input-63-2e458bdef3b9>\u001b[0m in \u001b[0;36m<module>\u001b[1;34m\u001b[0m\n\u001b[0;32m     38\u001b[0m         \u001b[0mavail\u001b[0m \u001b[1;33m=\u001b[0m \u001b[0moferta\u001b[0m\u001b[1;33m.\u001b[0m\u001b[0mfind\u001b[0m\u001b[1;33m(\u001b[0m\u001b[0mattrs\u001b[0m\u001b[1;33m=\u001b[0m\u001b[1;33m{\u001b[0m\u001b[1;34m'class'\u001b[0m\u001b[1;33m:\u001b[0m \u001b[0mpasek\u001b[0m\u001b[1;33m,\u001b[0m \u001b[1;34m'aria-label'\u001b[0m\u001b[1;33m:\u001b[0m \u001b[1;34m'Dostępne od'\u001b[0m\u001b[1;33m}\u001b[0m\u001b[1;33m)\u001b[0m\u001b[1;33m\u001b[0m\u001b[1;33m\u001b[0m\u001b[0m\n\u001b[0;32m     39\u001b[0m         \u001b[1;32mif\u001b[0m \u001b[0mavail\u001b[0m \u001b[1;32mis\u001b[0m \u001b[1;32mNone\u001b[0m\u001b[1;33m:\u001b[0m\u001b[1;33m\u001b[0m\u001b[1;33m\u001b[0m\u001b[0m\n\u001b[1;32m---> 40\u001b[1;33m             \u001b[0mavail\u001b[0m \u001b[1;33m=\u001b[0m \u001b[0mre\u001b[0m\u001b[1;33m.\u001b[0m\u001b[0msearch\u001b[0m\u001b[1;33m(\u001b[0m\u001b[0mpattern\u001b[0m\u001b[1;33m,\u001b[0m \u001b[0moferta\u001b[0m\u001b[1;33m.\u001b[0m\u001b[0mfind\u001b[0m\u001b[1;33m(\u001b[0m\u001b[0mattrs\u001b[0m\u001b[1;33m=\u001b[0m\u001b[1;33m{\u001b[0m\u001b[1;34m'type'\u001b[0m\u001b[1;33m:\u001b[0m \u001b[1;34m'application/json'\u001b[0m\u001b[1;33m}\u001b[0m\u001b[1;33m)\u001b[0m\u001b[1;33m.\u001b[0m\u001b[0mcontents\u001b[0m\u001b[1;33m[\u001b[0m\u001b[1;36m0\u001b[0m\u001b[1;33m]\u001b[0m\u001b[1;33m)\u001b[0m\u001b[1;33m.\u001b[0m\u001b[0mgroups\u001b[0m\u001b[1;33m(\u001b[0m\u001b[1;33m)\u001b[0m\u001b[1;33m[\u001b[0m\u001b[1;36m0\u001b[0m\u001b[1;33m]\u001b[0m\u001b[1;33m\u001b[0m\u001b[1;33m\u001b[0m\u001b[0m\n\u001b[0m\u001b[0;32m     41\u001b[0m         \u001b[1;32melse\u001b[0m\u001b[1;33m:\u001b[0m\u001b[1;33m\u001b[0m\u001b[1;33m\u001b[0m\u001b[0m\n\u001b[0;32m     42\u001b[0m             \u001b[0mavail\u001b[0m \u001b[1;33m=\u001b[0m \u001b[0mavail\u001b[0m\u001b[1;33m.\u001b[0m\u001b[0mfind\u001b[0m\u001b[1;33m(\u001b[0m\u001b[0mclass_\u001b[0m\u001b[1;33m=\u001b[0m\u001b[1;34m\"css-1ytkscc\"\u001b[0m\u001b[1;33m)\u001b[0m\u001b[1;33m.\u001b[0m\u001b[0mget_text\u001b[0m\u001b[1;33m(\u001b[0m\u001b[1;33m)\u001b[0m\u001b[1;33m.\u001b[0m\u001b[0mstrip\u001b[0m\u001b[1;33m(\u001b[0m\u001b[1;33m)\u001b[0m\u001b[1;33m\u001b[0m\u001b[1;33m\u001b[0m\u001b[0m\n",
      "\u001b[1;31mAttributeError\u001b[0m: 'NoneType' object has no attribute 'contents'"
     ]
    }
   ],
   "source": [
    "data = []\n",
    "number = 0\n",
    "for page in pages_range:\n",
    "    response = requests.get(mieszkania_url + str(page))\n",
    "    soup = BeautifulSoup(response.content, 'html.parser')\n",
    "    mieszkania = soup.find_all(class_=\"offer-item\")\n",
    "    for M in mieszkania[3:]:\n",
    "        oferta_url = M['data-url']\n",
    "        subresponse = requests.get(oferta_url)\n",
    "        oferta = BeautifulSoup(subresponse.content, 'html.parser')\n",
    "        district = oferta.find(class_=\"css-1qz7z11\")\n",
    "        if district is None:\n",
    "            district = \"nieznany\"\n",
    "        else:\n",
    "            district = district.get_text().strip().split(', ')[1]\n",
    "        vendor = oferta.find(class_=\"css-1hhugco\")\n",
    "        if vendor is None:\n",
    "            vendor = \"nieznany\"\n",
    "        else:\n",
    "            vendor = vendor['href']\n",
    "        price = oferta.find(attrs={'aria-label': 'Cena'})\n",
    "        if price is None:\n",
    "            price = '0'\n",
    "        else:\n",
    "            price = price.get_text().strip().replace(' ', '').replace('zł', '')\n",
    "        priceA = oferta.find(attrs={'aria-label': 'Cena za metr kwadratowy'})\n",
    "        if priceA is None:\n",
    "            priceA = '0'\n",
    "        else:\n",
    "            priceA = priceA.get_text().strip().replace(' ', '').replace('zł/m²', '')\n",
    "        originalID = M['data-item-id']\n",
    "        details = ['0 m²', 'nieznany', '0', '0', 'nieznany', '2021', 'nieznane', 'nieznany', '0', 'nieznany']\n",
    "        for x in range(len(details)):\n",
    "            det = oferta.find(attrs={'class': pasek, 'aria-label': labels[x]})\n",
    "            if det is not None:\n",
    "                details[x] = det.find(class_=\"css-1ytkscc\").get_text().strip()\n",
    "        pattern = '\"dateCreated\":\"(\\d{4}-\\d{2}-\\d{2})'\n",
    "        avail = oferta.find(attrs={'class': pasek, 'aria-label': 'Dostępne od'})\n",
    "        if avail is None:\n",
    "            avail = re.search(pattern, oferta.find(attrs={'type': 'application/json'}).contents[0]).groups()[0]\n",
    "        else:\n",
    "            avail = avail.find(class_=\"css-1ytkscc\").get_text().strip()\n",
    "        elevator = \"no\"\n",
    "        dodatki = url_soup.find_all(class_='css-1r5xhnu')\n",
    "        for d in dodatki:\n",
    "            if d.get_text().strip()==\"winda\":\n",
    "                elevator = \"yes\"\n",
    "        snapd = date.today().strftime(\"%Y-%m-%d\")\n",
    "        data.append({\"district\": district, \"vendor\": vendor, \"price\": price, \"pricePerMeter\": priceA,\n",
    "                     \"originalFlatId\": originalID, \"area\": details[0][:-3], \"market\": details[1],\n",
    "                     \"floatFloor\": details[2], \"roomsNumber\": details[3], \"buildingMaterial\": details[4],\n",
    "                     \"constructionYear\": details[5], \"heating\": details[6], \"condition\": details[7],\n",
    "                     \"floorsNumber\": details[8], \"availableDate\": avail, \"typeOfBuilding\": details[9],\n",
    "                     \"elevator\": elevator, \"snapshotDate\": snapd})\n",
    "        number = number+1\n",
    "        clear_output(wait=True)\n",
    "        print(number)\n",
    "\n",
    "data_df = pd.DataFrame(data)"
   ]
  },
  {
   "cell_type": "code",
   "execution_count": 67,
   "metadata": {},
   "outputs": [],
   "source": [
    "data_df = pd.DataFrame(data)\n",
    "data_df.to_csv('flatFacts.csv')"
   ]
  },
  {
   "cell_type": "code",
   "execution_count": 53,
   "metadata": {},
   "outputs": [],
   "source": [
    "avail = url_soup.find(attrs={'class': pasek, 'aria-label': 'Dostępne od'})\n",
    "avail"
   ]
  },
  {
   "cell_type": "code",
   "execution_count": 57,
   "metadata": {},
   "outputs": [
    {
     "data": {
      "text/plain": [
       "'2021-05-30'"
      ]
     },
     "execution_count": 57,
     "metadata": {},
     "output_type": "execute_result"
    }
   ],
   "source": [
    "re.search(pattern, url_soup.find(attrs={'type': 'application/json'}).contents[0]).groups()[0]"
   ]
  },
  {
   "cell_type": "code",
   "execution_count": 55,
   "metadata": {},
   "outputs": [],
   "source": [
    "pattern = '\"dateCreated\":\"(\\d{4}-\\d{2}-\\d{2})'"
   ]
  },
  {
   "cell_type": "code",
   "execution_count": 36,
   "metadata": {},
   "outputs": [
    {
     "data": {
      "text/plain": [
       "False"
      ]
     },
     "execution_count": 36,
     "metadata": {},
     "output_type": "execute_result"
    }
   ],
   "source": [
    "oferta.find(class_=\"css-1hhugco\") is None"
   ]
  },
  {
   "cell_type": "code",
   "execution_count": 39,
   "metadata": {},
   "outputs": [
    {
     "data": {
      "text/plain": [
       "'2021-02-17'"
      ]
     },
     "execution_count": 39,
     "metadata": {},
     "output_type": "execute_result"
    }
   ],
   "source": [
    "re.search(pattern, url_str).groups()[0]"
   ]
  },
  {
   "cell_type": "code",
   "execution_count": 38,
   "metadata": {},
   "outputs": [],
   "source": [
    "url_str = url_soup.find(attrs={'type': 'application/json'}).contents[0]"
   ]
  },
  {
   "cell_type": "markdown",
   "metadata": {},
   "source": [
    "```\n",
    "\tflatId int IDENTITY(1, 1) PRIMARY KEY,\n",
    "\tdistrictId int NOT NULL foreign key references DistrictDimension(districtId),\n",
    "        DZIELNICA\n",
    "\tvendorId int NOT NULL foreign key references VendorDimension(vendorId),\n",
    "        css-1hhugco\n",
    "\tprice money NOT NULL,\n",
    "        CENA\n",
    "\tpricePerMeter money NOT NULL,\n",
    "        CENAM2\n",
    "\toriginalFlatId int NOT NULL, --\"Nr oferty w Otodom\"\n",
    "        DATA ITEM ID\n",
    "\tarea float NOT NULL,\n",
    "        --> POWIERZCHNIA: (:-3) / css-18h1kfv ev4i3ak3\n",
    "\tmarket varchar(10) NOT NULL,\n",
    "        --> RYNEK WTÓRNY:\n",
    "\tfloatFloor int NOT NULL,\n",
    "        --> PIĘTRO:\n",
    "\troomsNumber int NOT NULL,\n",
    "        --> LICZBA POKOI:\n",
    "\tbuildingMaterial varchar(20) NOT NULL,\n",
    "        --> MATERIAŁ BUDYNKU\n",
    "\tconstructionYear int NOT NULL foreign key references DateDimension(DateID), --wskazuje na styczen tego roku\n",
    "        --> ROK BUDOWY:\n",
    "\theating varchar(20) NOT NULL,\n",
    "        --> OGRZEWANIE:\n",
    "\tcondition varchar(20) NOT NULL, --do wykonczenia/do zamieszkania/do remontu itp.\n",
    "        --> STAN WYKOŃCZENIA:\n",
    "\tfloorsNumber int NOT NULL,\n",
    "        --> LICZBA PIĘTER:\n",
    "\tavailableDate int NOT NULL foreign key references DateDimension(DateID),\n",
    "\ttypeOfBuilding varchar(20) NOT NULL, --apartamentowiec/blok\n",
    "        --> RODZAJ ZABUDOWY:\n",
    "\televator varchar(3) NOT NULL, --yes/no\n",
    "        informacje dodatkowe, * WINDA\n",
    "\tsnapshotDate int NOT NULL foreign key references DateDimension(DateID),\n",
    "```"
   ]
  },
  {
   "cell_type": "markdown",
   "metadata": {},
   "source": [
    "---\n",
    "\n",
    "### poprawa"
   ]
  },
  {
   "cell_type": "code",
   "execution_count": 2,
   "metadata": {},
   "outputs": [],
   "source": [
    "import pandas as pd\n",
    "flatFacts2 = pd.read_csv(\"flatFacts.csv\")"
   ]
  },
  {
   "cell_type": "code",
   "execution_count": 3,
   "metadata": {},
   "outputs": [
    {
     "data": {
      "text/html": [
       "<div>\n",
       "<style scoped>\n",
       "    .dataframe tbody tr th:only-of-type {\n",
       "        vertical-align: middle;\n",
       "    }\n",
       "\n",
       "    .dataframe tbody tr th {\n",
       "        vertical-align: top;\n",
       "    }\n",
       "\n",
       "    .dataframe thead th {\n",
       "        text-align: right;\n",
       "    }\n",
       "</style>\n",
       "<table border=\"1\" class=\"dataframe\">\n",
       "  <thead>\n",
       "    <tr style=\"text-align: right;\">\n",
       "      <th></th>\n",
       "      <th>Unnamed: 0</th>\n",
       "      <th>district</th>\n",
       "      <th>vendor</th>\n",
       "      <th>price</th>\n",
       "      <th>pricePerMeter</th>\n",
       "      <th>originalFlatId</th>\n",
       "      <th>area</th>\n",
       "      <th>market</th>\n",
       "      <th>floatFloor</th>\n",
       "      <th>roomsNumber</th>\n",
       "      <th>buildingMaterial</th>\n",
       "      <th>constructionYear</th>\n",
       "      <th>heating</th>\n",
       "      <th>condition</th>\n",
       "      <th>floorsNumber</th>\n",
       "      <th>availableDate</th>\n",
       "      <th>typeOfBuilding</th>\n",
       "      <th>elevator</th>\n",
       "      <th>snapshotDate</th>\n",
       "    </tr>\n",
       "  </thead>\n",
       "  <tbody>\n",
       "    <tr>\n",
       "      <th>0</th>\n",
       "      <td>0</td>\n",
       "      <td>Wilanów</td>\n",
       "      <td>nieznany</td>\n",
       "      <td>749000</td>\n",
       "      <td>13495.0</td>\n",
       "      <td>4b2w9</td>\n",
       "      <td>55,50</td>\n",
       "      <td>wtórny</td>\n",
       "      <td>1</td>\n",
       "      <td>2</td>\n",
       "      <td>nieznany</td>\n",
       "      <td>2010</td>\n",
       "      <td>nieznane</td>\n",
       "      <td>do zamieszkania</td>\n",
       "      <td>4</td>\n",
       "      <td>2021-02-17</td>\n",
       "      <td>blok</td>\n",
       "      <td>yes</td>\n",
       "      <td>2021-05-29</td>\n",
       "    </tr>\n",
       "    <tr>\n",
       "      <th>1</th>\n",
       "      <td>1</td>\n",
       "      <td>Wola</td>\n",
       "      <td>nieznany</td>\n",
       "      <td>699000</td>\n",
       "      <td>20196.0</td>\n",
       "      <td>4bIC6</td>\n",
       "      <td>34,61</td>\n",
       "      <td>wtórny</td>\n",
       "      <td>0</td>\n",
       "      <td>2</td>\n",
       "      <td>nieznany</td>\n",
       "      <td>2021</td>\n",
       "      <td>nieznane</td>\n",
       "      <td>nieznany</td>\n",
       "      <td>0</td>\n",
       "      <td>2021-02-17</td>\n",
       "      <td>nieznany</td>\n",
       "      <td>yes</td>\n",
       "      <td>2021-05-29</td>\n",
       "    </tr>\n",
       "    <tr>\n",
       "      <th>2</th>\n",
       "      <td>2</td>\n",
       "      <td>Ursus</td>\n",
       "      <td>nieznany</td>\n",
       "      <td>287000</td>\n",
       "      <td>14336.0</td>\n",
       "      <td>4bEuJ</td>\n",
       "      <td>20,02</td>\n",
       "      <td>wtórny</td>\n",
       "      <td>parter</td>\n",
       "      <td>1</td>\n",
       "      <td>cegła</td>\n",
       "      <td>1969</td>\n",
       "      <td>miejskie</td>\n",
       "      <td>do zamieszkania</td>\n",
       "      <td>3</td>\n",
       "      <td>&lt;div aria-label=\"Dostępne od\" class=\"css-18h1k...</td>\n",
       "      <td>blok</td>\n",
       "      <td>yes</td>\n",
       "      <td>2021-05-29</td>\n",
       "    </tr>\n",
       "    <tr>\n",
       "      <th>3</th>\n",
       "      <td>3</td>\n",
       "      <td>Białołęka</td>\n",
       "      <td>https://www.otodom.pl/shop/dsm-dewelopment-IDa...</td>\n",
       "      <td>850000</td>\n",
       "      <td>5556.0</td>\n",
       "      <td>4bwxB</td>\n",
       "      <td>153</td>\n",
       "      <td>pierwotny</td>\n",
       "      <td>0</td>\n",
       "      <td>5</td>\n",
       "      <td>nieznany</td>\n",
       "      <td>2021</td>\n",
       "      <td>nieznane</td>\n",
       "      <td>nieznany</td>\n",
       "      <td>0</td>\n",
       "      <td>2021-02-17</td>\n",
       "      <td>nieznany</td>\n",
       "      <td>yes</td>\n",
       "      <td>2021-05-29</td>\n",
       "    </tr>\n",
       "    <tr>\n",
       "      <th>4</th>\n",
       "      <td>4</td>\n",
       "      <td>Ursus</td>\n",
       "      <td>https://www.otodom.pl/shop/akces-nieruchomosci...</td>\n",
       "      <td>1085000</td>\n",
       "      <td>9963.0</td>\n",
       "      <td>4bta1</td>\n",
       "      <td>108,90</td>\n",
       "      <td>wtórny</td>\n",
       "      <td>6</td>\n",
       "      <td>4</td>\n",
       "      <td>nieznany</td>\n",
       "      <td>2009</td>\n",
       "      <td>nieznane</td>\n",
       "      <td>nieznany</td>\n",
       "      <td>7</td>\n",
       "      <td>2021-02-17</td>\n",
       "      <td>nieznany</td>\n",
       "      <td>yes</td>\n",
       "      <td>2021-05-29</td>\n",
       "    </tr>\n",
       "    <tr>\n",
       "      <th>...</th>\n",
       "      <td>...</td>\n",
       "      <td>...</td>\n",
       "      <td>...</td>\n",
       "      <td>...</td>\n",
       "      <td>...</td>\n",
       "      <td>...</td>\n",
       "      <td>...</td>\n",
       "      <td>...</td>\n",
       "      <td>...</td>\n",
       "      <td>...</td>\n",
       "      <td>...</td>\n",
       "      <td>...</td>\n",
       "      <td>...</td>\n",
       "      <td>...</td>\n",
       "      <td>...</td>\n",
       "      <td>...</td>\n",
       "      <td>...</td>\n",
       "      <td>...</td>\n",
       "      <td>...</td>\n",
       "    </tr>\n",
       "    <tr>\n",
       "      <th>11995</th>\n",
       "      <td>11995</td>\n",
       "      <td>Ursus</td>\n",
       "      <td>https://domusnova.otodom.pl</td>\n",
       "      <td>396819</td>\n",
       "      <td>10350.0</td>\n",
       "      <td>4be3f</td>\n",
       "      <td>38,34</td>\n",
       "      <td>pierwotny</td>\n",
       "      <td>3</td>\n",
       "      <td>2</td>\n",
       "      <td>nieznany</td>\n",
       "      <td>2022</td>\n",
       "      <td>nieznane</td>\n",
       "      <td>nieznany</td>\n",
       "      <td>4</td>\n",
       "      <td>&lt;div aria-label=\"Dostępne od\" class=\"css-18h1k...</td>\n",
       "      <td>nieznany</td>\n",
       "      <td>yes</td>\n",
       "      <td>2021-05-29</td>\n",
       "    </tr>\n",
       "    <tr>\n",
       "      <th>11996</th>\n",
       "      <td>11996</td>\n",
       "      <td>Praga-Północ</td>\n",
       "      <td>https://koloseum-nieruchomosci.otodom.pl</td>\n",
       "      <td>740000</td>\n",
       "      <td>14510.0</td>\n",
       "      <td>4be3b</td>\n",
       "      <td>51</td>\n",
       "      <td>wtórny</td>\n",
       "      <td>parter</td>\n",
       "      <td>2</td>\n",
       "      <td>cegła</td>\n",
       "      <td>2021</td>\n",
       "      <td>miejskie</td>\n",
       "      <td>do wykończenia</td>\n",
       "      <td>6</td>\n",
       "      <td>&lt;div aria-label=\"Dostępne od\" class=\"css-18h1k...</td>\n",
       "      <td>kamienica</td>\n",
       "      <td>yes</td>\n",
       "      <td>2021-05-29</td>\n",
       "    </tr>\n",
       "    <tr>\n",
       "      <th>11997</th>\n",
       "      <td>11997</td>\n",
       "      <td>Ursus</td>\n",
       "      <td>https://koloseum-nieruchomosci.otodom.pl</td>\n",
       "      <td>423300</td>\n",
       "      <td>10200.0</td>\n",
       "      <td>4be35</td>\n",
       "      <td>41,50</td>\n",
       "      <td>pierwotny</td>\n",
       "      <td>2</td>\n",
       "      <td>2</td>\n",
       "      <td>cegła</td>\n",
       "      <td>2022</td>\n",
       "      <td>miejskie</td>\n",
       "      <td>nieznany</td>\n",
       "      <td>4</td>\n",
       "      <td>2021-02-17</td>\n",
       "      <td>blok</td>\n",
       "      <td>yes</td>\n",
       "      <td>2021-05-29</td>\n",
       "    </tr>\n",
       "    <tr>\n",
       "      <th>11998</th>\n",
       "      <td>11998</td>\n",
       "      <td>Ursus</td>\n",
       "      <td>https://domusnova.otodom.pl</td>\n",
       "      <td>425000</td>\n",
       "      <td>9786.0</td>\n",
       "      <td>4be33</td>\n",
       "      <td>43,43</td>\n",
       "      <td>pierwotny</td>\n",
       "      <td>3</td>\n",
       "      <td>2</td>\n",
       "      <td>nieznany</td>\n",
       "      <td>2021</td>\n",
       "      <td>miejskie</td>\n",
       "      <td>nieznany</td>\n",
       "      <td>7</td>\n",
       "      <td>&lt;div aria-label=\"Dostępne od\" class=\"css-18h1k...</td>\n",
       "      <td>nieznany</td>\n",
       "      <td>yes</td>\n",
       "      <td>2021-05-29</td>\n",
       "    </tr>\n",
       "    <tr>\n",
       "      <th>11999</th>\n",
       "      <td>11999</td>\n",
       "      <td>Ursus</td>\n",
       "      <td>https://koloseum-nieruchomosci.otodom.pl</td>\n",
       "      <td>337151</td>\n",
       "      <td>10950.0</td>\n",
       "      <td>4be32</td>\n",
       "      <td>30,79</td>\n",
       "      <td>pierwotny</td>\n",
       "      <td>2</td>\n",
       "      <td>1</td>\n",
       "      <td>cegła</td>\n",
       "      <td>2022</td>\n",
       "      <td>miejskie</td>\n",
       "      <td>nieznany</td>\n",
       "      <td>4</td>\n",
       "      <td>2021-02-17</td>\n",
       "      <td>blok</td>\n",
       "      <td>yes</td>\n",
       "      <td>2021-05-29</td>\n",
       "    </tr>\n",
       "  </tbody>\n",
       "</table>\n",
       "<p>12000 rows × 19 columns</p>\n",
       "</div>"
      ],
      "text/plain": [
       "       Unnamed: 0      district  \\\n",
       "0               0       Wilanów   \n",
       "1               1          Wola   \n",
       "2               2         Ursus   \n",
       "3               3     Białołęka   \n",
       "4               4         Ursus   \n",
       "...           ...           ...   \n",
       "11995       11995         Ursus   \n",
       "11996       11996  Praga-Północ   \n",
       "11997       11997         Ursus   \n",
       "11998       11998         Ursus   \n",
       "11999       11999         Ursus   \n",
       "\n",
       "                                                  vendor    price  \\\n",
       "0                                               nieznany   749000   \n",
       "1                                               nieznany   699000   \n",
       "2                                               nieznany   287000   \n",
       "3      https://www.otodom.pl/shop/dsm-dewelopment-IDa...   850000   \n",
       "4      https://www.otodom.pl/shop/akces-nieruchomosci...  1085000   \n",
       "...                                                  ...      ...   \n",
       "11995                        https://domusnova.otodom.pl   396819   \n",
       "11996           https://koloseum-nieruchomosci.otodom.pl   740000   \n",
       "11997           https://koloseum-nieruchomosci.otodom.pl   423300   \n",
       "11998                        https://domusnova.otodom.pl   425000   \n",
       "11999           https://koloseum-nieruchomosci.otodom.pl   337151   \n",
       "\n",
       "       pricePerMeter originalFlatId    area     market floatFloor roomsNumber  \\\n",
       "0            13495.0          4b2w9   55,50     wtórny          1           2   \n",
       "1            20196.0          4bIC6   34,61     wtórny          0           2   \n",
       "2            14336.0          4bEuJ   20,02     wtórny     parter           1   \n",
       "3             5556.0          4bwxB     153  pierwotny          0           5   \n",
       "4             9963.0          4bta1  108,90     wtórny          6           4   \n",
       "...              ...            ...     ...        ...        ...         ...   \n",
       "11995        10350.0          4be3f   38,34  pierwotny          3           2   \n",
       "11996        14510.0          4be3b      51     wtórny     parter           2   \n",
       "11997        10200.0          4be35   41,50  pierwotny          2           2   \n",
       "11998         9786.0          4be33   43,43  pierwotny          3           2   \n",
       "11999        10950.0          4be32   30,79  pierwotny          2           1   \n",
       "\n",
       "      buildingMaterial  constructionYear   heating        condition  \\\n",
       "0             nieznany              2010  nieznane  do zamieszkania   \n",
       "1             nieznany              2021  nieznane         nieznany   \n",
       "2                cegła              1969  miejskie  do zamieszkania   \n",
       "3             nieznany              2021  nieznane         nieznany   \n",
       "4             nieznany              2009  nieznane         nieznany   \n",
       "...                ...               ...       ...              ...   \n",
       "11995         nieznany              2022  nieznane         nieznany   \n",
       "11996            cegła              2021  miejskie   do wykończenia   \n",
       "11997            cegła              2022  miejskie         nieznany   \n",
       "11998         nieznany              2021  miejskie         nieznany   \n",
       "11999            cegła              2022  miejskie         nieznany   \n",
       "\n",
       "       floorsNumber                                      availableDate  \\\n",
       "0                 4                                         2021-02-17   \n",
       "1                 0                                         2021-02-17   \n",
       "2                 3  <div aria-label=\"Dostępne od\" class=\"css-18h1k...   \n",
       "3                 0                                         2021-02-17   \n",
       "4                 7                                         2021-02-17   \n",
       "...             ...                                                ...   \n",
       "11995             4  <div aria-label=\"Dostępne od\" class=\"css-18h1k...   \n",
       "11996             6  <div aria-label=\"Dostępne od\" class=\"css-18h1k...   \n",
       "11997             4                                         2021-02-17   \n",
       "11998             7  <div aria-label=\"Dostępne od\" class=\"css-18h1k...   \n",
       "11999             4                                         2021-02-17   \n",
       "\n",
       "      typeOfBuilding elevator snapshotDate  \n",
       "0               blok      yes   2021-05-29  \n",
       "1           nieznany      yes   2021-05-29  \n",
       "2               blok      yes   2021-05-29  \n",
       "3           nieznany      yes   2021-05-29  \n",
       "4           nieznany      yes   2021-05-29  \n",
       "...              ...      ...          ...  \n",
       "11995       nieznany      yes   2021-05-29  \n",
       "11996      kamienica      yes   2021-05-29  \n",
       "11997           blok      yes   2021-05-29  \n",
       "11998       nieznany      yes   2021-05-29  \n",
       "11999           blok      yes   2021-05-29  \n",
       "\n",
       "[12000 rows x 19 columns]"
      ]
     },
     "execution_count": 3,
     "metadata": {},
     "output_type": "execute_result"
    }
   ],
   "source": [
    "flatFacts2"
   ]
  },
  {
   "cell_type": "code",
   "execution_count": 17,
   "metadata": {},
   "outputs": [
    {
     "data": {
      "text/plain": [
       "'2021-05-24'"
      ]
     },
     "execution_count": 17,
     "metadata": {},
     "output_type": "execute_result"
    }
   ],
   "source": [
    "av = flatFacts2.iloc[:, 15]\n",
    "av[2][-22:-12]"
   ]
  },
  {
   "cell_type": "code",
   "execution_count": 18,
   "metadata": {},
   "outputs": [
    {
     "name": "stderr",
     "output_type": "stream",
     "text": [
      "c:\\users\\marceli\\appdata\\local\\programs\\python\\python37\\lib\\site-packages\\ipykernel_launcher.py:3: SettingWithCopyWarning: \n",
      "A value is trying to be set on a copy of a slice from a DataFrame\n",
      "\n",
      "See the caveats in the documentation: http://pandas.pydata.org/pandas-docs/stable/user_guide/indexing.html#returning-a-view-versus-a-copy\n",
      "  This is separate from the ipykernel package so we can avoid doing imports until\n"
     ]
    }
   ],
   "source": [
    "for x in range(12000):\n",
    "    if len(av[x])>10:\n",
    "        av[x] = av[x][-22:-12]"
   ]
  },
  {
   "cell_type": "code",
   "execution_count": 19,
   "metadata": {},
   "outputs": [
    {
     "data": {
      "text/plain": [
       "0        2021-02-17\n",
       "1        2021-02-17\n",
       "2        2021-05-24\n",
       "3        2021-02-17\n",
       "4        2021-02-17\n",
       "            ...    \n",
       "11995    2022-05-31\n",
       "11996    2021-05-29\n",
       "11997    2021-02-17\n",
       "11998    2021-12-31\n",
       "11999    2021-02-17\n",
       "Name: availableDate, Length: 12000, dtype: object"
      ]
     },
     "execution_count": 19,
     "metadata": {},
     "output_type": "execute_result"
    }
   ],
   "source": [
    "av"
   ]
  },
  {
   "cell_type": "code",
   "execution_count": 20,
   "metadata": {},
   "outputs": [],
   "source": [
    "flatFacts2.availableDate = av"
   ]
  },
  {
   "cell_type": "code",
   "execution_count": 21,
   "metadata": {},
   "outputs": [
    {
     "data": {
      "text/html": [
       "<div>\n",
       "<style scoped>\n",
       "    .dataframe tbody tr th:only-of-type {\n",
       "        vertical-align: middle;\n",
       "    }\n",
       "\n",
       "    .dataframe tbody tr th {\n",
       "        vertical-align: top;\n",
       "    }\n",
       "\n",
       "    .dataframe thead th {\n",
       "        text-align: right;\n",
       "    }\n",
       "</style>\n",
       "<table border=\"1\" class=\"dataframe\">\n",
       "  <thead>\n",
       "    <tr style=\"text-align: right;\">\n",
       "      <th></th>\n",
       "      <th>Unnamed: 0</th>\n",
       "      <th>district</th>\n",
       "      <th>vendor</th>\n",
       "      <th>price</th>\n",
       "      <th>pricePerMeter</th>\n",
       "      <th>originalFlatId</th>\n",
       "      <th>area</th>\n",
       "      <th>market</th>\n",
       "      <th>floatFloor</th>\n",
       "      <th>roomsNumber</th>\n",
       "      <th>buildingMaterial</th>\n",
       "      <th>constructionYear</th>\n",
       "      <th>heating</th>\n",
       "      <th>condition</th>\n",
       "      <th>floorsNumber</th>\n",
       "      <th>availableDate</th>\n",
       "      <th>typeOfBuilding</th>\n",
       "      <th>elevator</th>\n",
       "      <th>snapshotDate</th>\n",
       "    </tr>\n",
       "  </thead>\n",
       "  <tbody>\n",
       "    <tr>\n",
       "      <th>0</th>\n",
       "      <td>0</td>\n",
       "      <td>Wilanów</td>\n",
       "      <td>nieznany</td>\n",
       "      <td>749000</td>\n",
       "      <td>13495.0</td>\n",
       "      <td>4b2w9</td>\n",
       "      <td>55,50</td>\n",
       "      <td>wtórny</td>\n",
       "      <td>1</td>\n",
       "      <td>2</td>\n",
       "      <td>nieznany</td>\n",
       "      <td>2010</td>\n",
       "      <td>nieznane</td>\n",
       "      <td>do zamieszkania</td>\n",
       "      <td>4</td>\n",
       "      <td>2021-02-17</td>\n",
       "      <td>blok</td>\n",
       "      <td>yes</td>\n",
       "      <td>2021-05-29</td>\n",
       "    </tr>\n",
       "    <tr>\n",
       "      <th>1</th>\n",
       "      <td>1</td>\n",
       "      <td>Wola</td>\n",
       "      <td>nieznany</td>\n",
       "      <td>699000</td>\n",
       "      <td>20196.0</td>\n",
       "      <td>4bIC6</td>\n",
       "      <td>34,61</td>\n",
       "      <td>wtórny</td>\n",
       "      <td>0</td>\n",
       "      <td>2</td>\n",
       "      <td>nieznany</td>\n",
       "      <td>2021</td>\n",
       "      <td>nieznane</td>\n",
       "      <td>nieznany</td>\n",
       "      <td>0</td>\n",
       "      <td>2021-02-17</td>\n",
       "      <td>nieznany</td>\n",
       "      <td>yes</td>\n",
       "      <td>2021-05-29</td>\n",
       "    </tr>\n",
       "    <tr>\n",
       "      <th>2</th>\n",
       "      <td>2</td>\n",
       "      <td>Ursus</td>\n",
       "      <td>nieznany</td>\n",
       "      <td>287000</td>\n",
       "      <td>14336.0</td>\n",
       "      <td>4bEuJ</td>\n",
       "      <td>20,02</td>\n",
       "      <td>wtórny</td>\n",
       "      <td>parter</td>\n",
       "      <td>1</td>\n",
       "      <td>cegła</td>\n",
       "      <td>1969</td>\n",
       "      <td>miejskie</td>\n",
       "      <td>do zamieszkania</td>\n",
       "      <td>3</td>\n",
       "      <td>2021-05-24</td>\n",
       "      <td>blok</td>\n",
       "      <td>yes</td>\n",
       "      <td>2021-05-29</td>\n",
       "    </tr>\n",
       "    <tr>\n",
       "      <th>3</th>\n",
       "      <td>3</td>\n",
       "      <td>Białołęka</td>\n",
       "      <td>https://www.otodom.pl/shop/dsm-dewelopment-IDa...</td>\n",
       "      <td>850000</td>\n",
       "      <td>5556.0</td>\n",
       "      <td>4bwxB</td>\n",
       "      <td>153</td>\n",
       "      <td>pierwotny</td>\n",
       "      <td>0</td>\n",
       "      <td>5</td>\n",
       "      <td>nieznany</td>\n",
       "      <td>2021</td>\n",
       "      <td>nieznane</td>\n",
       "      <td>nieznany</td>\n",
       "      <td>0</td>\n",
       "      <td>2021-02-17</td>\n",
       "      <td>nieznany</td>\n",
       "      <td>yes</td>\n",
       "      <td>2021-05-29</td>\n",
       "    </tr>\n",
       "    <tr>\n",
       "      <th>4</th>\n",
       "      <td>4</td>\n",
       "      <td>Ursus</td>\n",
       "      <td>https://www.otodom.pl/shop/akces-nieruchomosci...</td>\n",
       "      <td>1085000</td>\n",
       "      <td>9963.0</td>\n",
       "      <td>4bta1</td>\n",
       "      <td>108,90</td>\n",
       "      <td>wtórny</td>\n",
       "      <td>6</td>\n",
       "      <td>4</td>\n",
       "      <td>nieznany</td>\n",
       "      <td>2009</td>\n",
       "      <td>nieznane</td>\n",
       "      <td>nieznany</td>\n",
       "      <td>7</td>\n",
       "      <td>2021-02-17</td>\n",
       "      <td>nieznany</td>\n",
       "      <td>yes</td>\n",
       "      <td>2021-05-29</td>\n",
       "    </tr>\n",
       "    <tr>\n",
       "      <th>...</th>\n",
       "      <td>...</td>\n",
       "      <td>...</td>\n",
       "      <td>...</td>\n",
       "      <td>...</td>\n",
       "      <td>...</td>\n",
       "      <td>...</td>\n",
       "      <td>...</td>\n",
       "      <td>...</td>\n",
       "      <td>...</td>\n",
       "      <td>...</td>\n",
       "      <td>...</td>\n",
       "      <td>...</td>\n",
       "      <td>...</td>\n",
       "      <td>...</td>\n",
       "      <td>...</td>\n",
       "      <td>...</td>\n",
       "      <td>...</td>\n",
       "      <td>...</td>\n",
       "      <td>...</td>\n",
       "    </tr>\n",
       "    <tr>\n",
       "      <th>11995</th>\n",
       "      <td>11995</td>\n",
       "      <td>Ursus</td>\n",
       "      <td>https://domusnova.otodom.pl</td>\n",
       "      <td>396819</td>\n",
       "      <td>10350.0</td>\n",
       "      <td>4be3f</td>\n",
       "      <td>38,34</td>\n",
       "      <td>pierwotny</td>\n",
       "      <td>3</td>\n",
       "      <td>2</td>\n",
       "      <td>nieznany</td>\n",
       "      <td>2022</td>\n",
       "      <td>nieznane</td>\n",
       "      <td>nieznany</td>\n",
       "      <td>4</td>\n",
       "      <td>2022-05-31</td>\n",
       "      <td>nieznany</td>\n",
       "      <td>yes</td>\n",
       "      <td>2021-05-29</td>\n",
       "    </tr>\n",
       "    <tr>\n",
       "      <th>11996</th>\n",
       "      <td>11996</td>\n",
       "      <td>Praga-Północ</td>\n",
       "      <td>https://koloseum-nieruchomosci.otodom.pl</td>\n",
       "      <td>740000</td>\n",
       "      <td>14510.0</td>\n",
       "      <td>4be3b</td>\n",
       "      <td>51</td>\n",
       "      <td>wtórny</td>\n",
       "      <td>parter</td>\n",
       "      <td>2</td>\n",
       "      <td>cegła</td>\n",
       "      <td>2021</td>\n",
       "      <td>miejskie</td>\n",
       "      <td>do wykończenia</td>\n",
       "      <td>6</td>\n",
       "      <td>2021-05-29</td>\n",
       "      <td>kamienica</td>\n",
       "      <td>yes</td>\n",
       "      <td>2021-05-29</td>\n",
       "    </tr>\n",
       "    <tr>\n",
       "      <th>11997</th>\n",
       "      <td>11997</td>\n",
       "      <td>Ursus</td>\n",
       "      <td>https://koloseum-nieruchomosci.otodom.pl</td>\n",
       "      <td>423300</td>\n",
       "      <td>10200.0</td>\n",
       "      <td>4be35</td>\n",
       "      <td>41,50</td>\n",
       "      <td>pierwotny</td>\n",
       "      <td>2</td>\n",
       "      <td>2</td>\n",
       "      <td>cegła</td>\n",
       "      <td>2022</td>\n",
       "      <td>miejskie</td>\n",
       "      <td>nieznany</td>\n",
       "      <td>4</td>\n",
       "      <td>2021-02-17</td>\n",
       "      <td>blok</td>\n",
       "      <td>yes</td>\n",
       "      <td>2021-05-29</td>\n",
       "    </tr>\n",
       "    <tr>\n",
       "      <th>11998</th>\n",
       "      <td>11998</td>\n",
       "      <td>Ursus</td>\n",
       "      <td>https://domusnova.otodom.pl</td>\n",
       "      <td>425000</td>\n",
       "      <td>9786.0</td>\n",
       "      <td>4be33</td>\n",
       "      <td>43,43</td>\n",
       "      <td>pierwotny</td>\n",
       "      <td>3</td>\n",
       "      <td>2</td>\n",
       "      <td>nieznany</td>\n",
       "      <td>2021</td>\n",
       "      <td>miejskie</td>\n",
       "      <td>nieznany</td>\n",
       "      <td>7</td>\n",
       "      <td>2021-12-31</td>\n",
       "      <td>nieznany</td>\n",
       "      <td>yes</td>\n",
       "      <td>2021-05-29</td>\n",
       "    </tr>\n",
       "    <tr>\n",
       "      <th>11999</th>\n",
       "      <td>11999</td>\n",
       "      <td>Ursus</td>\n",
       "      <td>https://koloseum-nieruchomosci.otodom.pl</td>\n",
       "      <td>337151</td>\n",
       "      <td>10950.0</td>\n",
       "      <td>4be32</td>\n",
       "      <td>30,79</td>\n",
       "      <td>pierwotny</td>\n",
       "      <td>2</td>\n",
       "      <td>1</td>\n",
       "      <td>cegła</td>\n",
       "      <td>2022</td>\n",
       "      <td>miejskie</td>\n",
       "      <td>nieznany</td>\n",
       "      <td>4</td>\n",
       "      <td>2021-02-17</td>\n",
       "      <td>blok</td>\n",
       "      <td>yes</td>\n",
       "      <td>2021-05-29</td>\n",
       "    </tr>\n",
       "  </tbody>\n",
       "</table>\n",
       "<p>12000 rows × 19 columns</p>\n",
       "</div>"
      ],
      "text/plain": [
       "       Unnamed: 0      district  \\\n",
       "0               0       Wilanów   \n",
       "1               1          Wola   \n",
       "2               2         Ursus   \n",
       "3               3     Białołęka   \n",
       "4               4         Ursus   \n",
       "...           ...           ...   \n",
       "11995       11995         Ursus   \n",
       "11996       11996  Praga-Północ   \n",
       "11997       11997         Ursus   \n",
       "11998       11998         Ursus   \n",
       "11999       11999         Ursus   \n",
       "\n",
       "                                                  vendor    price  \\\n",
       "0                                               nieznany   749000   \n",
       "1                                               nieznany   699000   \n",
       "2                                               nieznany   287000   \n",
       "3      https://www.otodom.pl/shop/dsm-dewelopment-IDa...   850000   \n",
       "4      https://www.otodom.pl/shop/akces-nieruchomosci...  1085000   \n",
       "...                                                  ...      ...   \n",
       "11995                        https://domusnova.otodom.pl   396819   \n",
       "11996           https://koloseum-nieruchomosci.otodom.pl   740000   \n",
       "11997           https://koloseum-nieruchomosci.otodom.pl   423300   \n",
       "11998                        https://domusnova.otodom.pl   425000   \n",
       "11999           https://koloseum-nieruchomosci.otodom.pl   337151   \n",
       "\n",
       "       pricePerMeter originalFlatId    area     market floatFloor roomsNumber  \\\n",
       "0            13495.0          4b2w9   55,50     wtórny          1           2   \n",
       "1            20196.0          4bIC6   34,61     wtórny          0           2   \n",
       "2            14336.0          4bEuJ   20,02     wtórny     parter           1   \n",
       "3             5556.0          4bwxB     153  pierwotny          0           5   \n",
       "4             9963.0          4bta1  108,90     wtórny          6           4   \n",
       "...              ...            ...     ...        ...        ...         ...   \n",
       "11995        10350.0          4be3f   38,34  pierwotny          3           2   \n",
       "11996        14510.0          4be3b      51     wtórny     parter           2   \n",
       "11997        10200.0          4be35   41,50  pierwotny          2           2   \n",
       "11998         9786.0          4be33   43,43  pierwotny          3           2   \n",
       "11999        10950.0          4be32   30,79  pierwotny          2           1   \n",
       "\n",
       "      buildingMaterial  constructionYear   heating        condition  \\\n",
       "0             nieznany              2010  nieznane  do zamieszkania   \n",
       "1             nieznany              2021  nieznane         nieznany   \n",
       "2                cegła              1969  miejskie  do zamieszkania   \n",
       "3             nieznany              2021  nieznane         nieznany   \n",
       "4             nieznany              2009  nieznane         nieznany   \n",
       "...                ...               ...       ...              ...   \n",
       "11995         nieznany              2022  nieznane         nieznany   \n",
       "11996            cegła              2021  miejskie   do wykończenia   \n",
       "11997            cegła              2022  miejskie         nieznany   \n",
       "11998         nieznany              2021  miejskie         nieznany   \n",
       "11999            cegła              2022  miejskie         nieznany   \n",
       "\n",
       "       floorsNumber availableDate typeOfBuilding elevator snapshotDate  \n",
       "0                 4    2021-02-17           blok      yes   2021-05-29  \n",
       "1                 0    2021-02-17       nieznany      yes   2021-05-29  \n",
       "2                 3    2021-05-24           blok      yes   2021-05-29  \n",
       "3                 0    2021-02-17       nieznany      yes   2021-05-29  \n",
       "4                 7    2021-02-17       nieznany      yes   2021-05-29  \n",
       "...             ...           ...            ...      ...          ...  \n",
       "11995             4    2022-05-31       nieznany      yes   2021-05-29  \n",
       "11996             6    2021-05-29      kamienica      yes   2021-05-29  \n",
       "11997             4    2021-02-17           blok      yes   2021-05-29  \n",
       "11998             7    2021-12-31       nieznany      yes   2021-05-29  \n",
       "11999             4    2021-02-17           blok      yes   2021-05-29  \n",
       "\n",
       "[12000 rows x 19 columns]"
      ]
     },
     "execution_count": 21,
     "metadata": {},
     "output_type": "execute_result"
    }
   ],
   "source": [
    "flatFacts2"
   ]
  },
  {
   "cell_type": "code",
   "execution_count": null,
   "metadata": {},
   "outputs": [],
   "source": [
    "flat"
   ]
  }
 ],
 "metadata": {
  "kernelspec": {
   "display_name": "Python 3",
   "language": "python",
   "name": "python3"
  },
  "language_info": {
   "codemirror_mode": {
    "name": "ipython",
    "version": 3
   },
   "file_extension": ".py",
   "mimetype": "text/x-python",
   "name": "python",
   "nbconvert_exporter": "python",
   "pygments_lexer": "ipython3",
   "version": "3.7.1"
  }
 },
 "nbformat": 4,
 "nbformat_minor": 4
}
